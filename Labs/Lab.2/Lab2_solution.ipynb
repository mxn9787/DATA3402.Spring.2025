{
  "cells": [
    {
      "cell_type": "markdown",
      "metadata": {
        "id": "tS0_34RVoC23"
      },
      "source": [
        "## Lab 2- Tic Tac Toe\n",
        "\n",
        "In this lab your will build a n x n Tic Tac Toe game. As you do the exercises, make sure your solutions work for any size Tic Tac Toe game."
      ]
    },
    {
      "cell_type": "markdown",
      "metadata": {
        "id": "4_pmrLJEoC27"
      },
      "source": [
        "*Exercise 1:* Write a function that creates an n by n matrix (of list of lists) which will represent the state of a Tie Tac Toe game. Let 0, 1, and 2 represent empty, \"X\", and \"O\", respectively.\n"
      ]
    },
    {
      "cell_type": "code",
      "execution_count": null,
      "metadata": {
        "collapsed": true,
        "id": "fzV8wvuFoC28"
      },
      "outputs": [],
      "source": [
        "player_1 = 1\n",
        "player_2 = 2\n",
        "empty = 0\n",
        "\n",
        "player_1_piece = \"X\"\n",
        "player_2_piece = \"O\"\n",
        "empty_space = \" \"\n",
        "\n",
        "space_character = {player_1: player_1_piece,\n",
        "                  player_2: player_2_piece,\n",
        "                  empty: empty_space}\n",
        "num_rows = 3\n",
        "num_cols = 3"
      ]
    },
    {
      "cell_type": "code",
      "execution_count": null,
      "metadata": {
        "collapsed": true,
        "id": "I8VP-oo0oC29"
      },
      "outputs": [],
      "source": [
        "play = []\n",
        "for i in range(num_rows):\n",
        "    row_list = []\n",
        "    for j in range(num_cols):\n",
        "        row_list.append(empty)\n",
        "    play.append(row_list)\n",
        "\n",
        "def print_play(play):\n",
        "    for row in play:\n",
        "        print(row)\n",
        "\n",
        "def game_play(num_rows,num_cols):\n",
        "    play = [[empty]*num_cols for i in range(num_rows)]\n",
        "    return play"
      ]
    },
    {
      "cell_type": "code",
      "source": [
        "print_play(play)"
      ],
      "metadata": {
        "colab": {
          "base_uri": "https://localhost:8080/"
        },
        "id": "27HU77jdoKzy",
        "outputId": "106bbbdc-03c3-4189-b633-ad649f64632b"
      },
      "execution_count": null,
      "outputs": [
        {
          "output_type": "stream",
          "name": "stdout",
          "text": [
            "[0, 0, 0]\n",
            "[0, 0, 0]\n",
            "[0, 0, 0]\n"
          ]
        }
      ]
    },
    {
      "cell_type": "markdown",
      "metadata": {
        "id": "JzKFZXxFoC2-"
      },
      "source": [
        "*Exercise 2:* Write a function that takes 2 integers `n` and `m` as input and draws a `n` by `m` game board. For example the following is a 3x3 board:\n",
        "```\n",
        "   --- --- ---\n",
        "  |   |   |   |\n",
        "   --- --- ---  \n",
        "  |   |   |   |\n",
        "   --- --- ---  \n",
        "  |   |   |   |\n",
        "   --- --- ---\n",
        "   ```"
      ]
    },
    {
      "cell_type": "code",
      "execution_count": null,
      "metadata": {
        "collapsed": true,
        "id": "FACJ9ZR-oC2-"
      },
      "outputs": [],
      "source": [
        "def chart(chart):\n",
        "    num_rows = len(chart)\n",
        "    num_cols = len(chart[0])\n",
        "\n",
        "    print(\" ---\"*num_cols)\n",
        "    for i in range(num_rows):\n",
        "        print(\"|\",end=\" \")\n",
        "        for j in range(num_cols):\n",
        "            print(\" \",end=\" \")\n",
        "            print(\"|\",end=\" \")\n",
        "        print()\n",
        "        print(\" ---\"*num_cols)"
      ]
    },
    {
      "cell_type": "code",
      "execution_count": null,
      "metadata": {
        "collapsed": true,
        "colab": {
          "base_uri": "https://localhost:8080/"
        },
        "id": "eb02QzFqoC2-",
        "outputId": "21a5892d-7e69-4fc6-e1ce-7b8770bd42df"
      },
      "outputs": [
        {
          "output_type": "stream",
          "name": "stdout",
          "text": [
            " --- --- ---\n",
            "|   |   |   | \n",
            " --- --- ---\n",
            "|   |   |   | \n",
            " --- --- ---\n",
            "|   |   |   | \n",
            " --- --- ---\n"
          ]
        }
      ],
      "source": [
        "chart(play)"
      ]
    },
    {
      "cell_type": "markdown",
      "metadata": {
        "id": "DCut4EyjoC2_"
      },
      "source": [
        "*Exercise 3:* Modify exercise 2, so that it takes a matrix of the form from exercise 1 and draws a tic-tac-tie board with \"X\"s and \"O\"s.  "
      ]
    },
    {
      "cell_type": "code",
      "execution_count": null,
      "metadata": {
        "collapsed": true,
        "id": "3fmx93DqoC2_"
      },
      "outputs": [],
      "source": [
        "def draw_chart(chart):\n",
        "    num_rows = len(chart)\n",
        "    num_cols = len(chart[0])\n",
        "\n",
        "    print(\" ---\"*num_cols)\n",
        "    for i in range(num_rows):\n",
        "        print(\"|\",end=\" \")\n",
        "        for j in range(num_cols):\n",
        "            print(space_character[chart[i][j]],end=\" \")\n",
        "            print(\"|\",end=\" \")\n",
        "        print()\n",
        "        print(\" ---\"*num_cols)"
      ]
    },
    {
      "cell_type": "code",
      "execution_count": null,
      "metadata": {
        "collapsed": true,
        "colab": {
          "base_uri": "https://localhost:8080/"
        },
        "id": "JqcZfVohoC3A",
        "outputId": "6165a0df-f016-4b56-f82b-cc8f5c94a975"
      },
      "outputs": [
        {
          "output_type": "stream",
          "name": "stdout",
          "text": [
            " --- --- ---\n",
            "|   |   |   | \n",
            " --- --- ---\n",
            "| X |   | X | \n",
            " --- --- ---\n",
            "| O |   | O | \n",
            " --- --- ---\n"
          ]
        }
      ],
      "source": [
        "chart2 = [[0,0,0],[1,0,1],[2,0,2]]\n",
        "draw_chart(chart2)"
      ]
    },
    {
      "cell_type": "markdown",
      "metadata": {
        "id": "RjF5BEPMoC3A"
      },
      "source": [
        "*Exercise 4:* Write a function that takes a `n` by `n` matrix representing a tic-tac-toe game, and returns -1, 0, 1, or 2 indicating the game is incomplete, the game is a draw, player 1 has won, or player 2 has one, respectively. Here are some example inputs you can use to test your code:"
      ]
    },
    {
      "cell_type": "code",
      "execution_count": null,
      "metadata": {
        "collapsed": true,
        "id": "uwZ6FJsdoC3A"
      },
      "outputs": [],
      "source": [
        "def game_state(board):\n",
        "\n",
        "    def is_winner(lst):\n",
        "        if lst == [player_1]*len(lst):\n",
        "            return player_1\n",
        "        elif lst == [player_2]*len(lst):\n",
        "            return player_2\n",
        "        else:\n",
        "            return False\n",
        "\n",
        "    # Check row winner\n",
        "    def row_winner():\n",
        "        for i in range(num_rows):\n",
        "            if board[i] == [player_1]*num_cols:\n",
        "                return player_1\n",
        "            if board[i] == [player_2]*num_cols:\n",
        "                return player_2\n",
        "            ## if is_winner(board[i])==player_1:\n",
        "            ##    return player_1\n",
        "        return False\n",
        "\n",
        "    # Make lists of columns\n",
        "    col_list = []\n",
        "    for i in range(num_cols):\n",
        "        col = []\n",
        "        for j in range(num_rows):\n",
        "            col.append(board[j][i])\n",
        "        col_list.append(col)\n",
        "\n",
        "    def col_winner():\n",
        "        for i in range(num_cols):\n",
        "            if is_winner(col_list[i]) == player_1:\n",
        "                return player_1\n",
        "            if is_winner(col_list[i]) == player_2:\n",
        "                return player_2\n",
        "        return False\n",
        "\n",
        "    diag = []\n",
        "    anti_diag = []\n",
        "    for j in range(num_rows):\n",
        "        diag.append(board[j][j])\n",
        "        anti_diag.append(board[j][num_cols-j-1])\n",
        "    diag_list = [diag, anti_diag]\n",
        "\n",
        "    def diag_winner():\n",
        "        for i in range(2):\n",
        "            if is_winner(diag_list[i]) == player_1:\n",
        "                return player_1\n",
        "            if is_winner(diag_list[i]) == player_2:\n",
        "                return player_2\n",
        "        return False\n",
        "\n",
        "    def is_full():\n",
        "        n = 0\n",
        "        for i in range(num_rows):\n",
        "            for j in range(num_cols):\n",
        "                if board[i][j] != empty:\n",
        "                    n+=1\n",
        "        if n==(num_rows*num_cols):\n",
        "            return True\n",
        "        else:\n",
        "            return False\n",
        "\n",
        "    def winner():\n",
        "        row_state = row_winner()\n",
        "        col_state = col_winner()\n",
        "        diag_state = diag_winner()\n",
        "        if row_state:\n",
        "            return row_state\n",
        "        elif col_state:\n",
        "            return col_state\n",
        "        elif diag_winner():\n",
        "            return diag_state\n",
        "        else:\n",
        "            return False\n",
        "\n",
        "    if winner():\n",
        "        return winner()\n",
        "    elif is_full():\n",
        "        return 0\n",
        "    else:\n",
        "        return -1"
      ]
    },
    {
      "cell_type": "code",
      "execution_count": null,
      "metadata": {
        "collapsed": true,
        "colab": {
          "base_uri": "https://localhost:8080/"
        },
        "id": "E27CnpBSoC3B",
        "outputId": "142fd129-1f93-4d2e-fc04-a68bd1ab7930"
      },
      "outputs": [
        {
          "output_type": "stream",
          "name": "stdout",
          "text": [
            "2\n",
            "1\n",
            "1\n",
            "0\n",
            "-1\n"
          ]
        }
      ],
      "source": [
        "winner_is_2 = [[2, 2, 0],\n",
        "\t[2, 1, 0],\n",
        "\t[2, 1, 1]]\n",
        "print(game_state(winner_is_2))\n",
        "\n",
        "winner_is_1 = [[1, 2, 0],\n",
        "\t[2, 1, 0],\n",
        "\t[2, 1, 1]]\n",
        "print(game_state(winner_is_1))\n",
        "\n",
        "winner_is_also_1 = [[0, 1, 0],\n",
        "\t[2, 1, 0],\n",
        "\t[2, 1, 1]]\n",
        "print(game_state(winner_is_also_1))\n",
        "\n",
        "no_winner = [[1, 2, 1],\n",
        "\t[2, 1, 2],\n",
        "\t[2, 1, 2]]\n",
        "print(game_state(no_winner))\n",
        "\n",
        "also_no_winner = [[1, 2, 0],\n",
        "\t[2, 1, 0],\n",
        "\t[2, 1, 0]]\n",
        "print(game_state(also_no_winner))"
      ]
    },
    {
      "cell_type": "code",
      "execution_count": null,
      "metadata": {
        "collapsed": true,
        "id": "DpGpdv_JoC3B"
      },
      "outputs": [],
      "source": [
        "winner_is_2 = [[2, 2, 0],\n",
        "\t[2, 1, 0],\n",
        "\t[2, 1, 1]]\n",
        "\n",
        "winner_is_1 = [[1, 2, 0],\n",
        "\t[2, 1, 0],\n",
        "\t[2, 1, 1]]\n",
        "\n",
        "winner_is_also_1 = [[0, 1, 0],\n",
        "\t[2, 1, 0],\n",
        "\t[2, 1, 1]]\n",
        "\n",
        "no_winner = [[1, 2, 0],\n",
        "\t[2, 1, 0],\n",
        "\t[2, 1, 2]]\n",
        "\n",
        "also_no_winner = [[1, 2, 0],\n",
        "\t[2, 1, 0],\n",
        "\t[2, 1, 0]]"
      ]
    },
    {
      "cell_type": "markdown",
      "metadata": {
        "id": "FA0Dq7fVoC3B"
      },
      "source": [
        "*Exercise 5:* Write a function that takes a game board, player number, and `(x,y)` coordinates and places \"X\" or \"O\" in the correct location of the game board. Make sure that you only allow filling previously empty locations. Return `True` or `False` to indicate successful placement of \"X\" or \"O\"."
      ]
    },
    {
      "cell_type": "code",
      "execution_count": null,
      "metadata": {
        "collapsed": true,
        "id": "dvEUZLleoC3C"
      },
      "outputs": [],
      "source": [
        "def message(message, verbose=True):\n",
        "    if verbose:\n",
        "        print(message)"
      ]
    },
    {
      "cell_type": "code",
      "execution_count": null,
      "metadata": {
        "collapsed": true,
        "id": "ZKzgh-XzoC3C"
      },
      "outputs": [],
      "source": [
        "def make_move(board, player, location):\n",
        "    x,y = location\n",
        "\n",
        "    if x not in range(num_rows) or y not in range(num_cols):\n",
        "        print(\"Location is invalid\")\n",
        "        return False\n",
        "\n",
        "    if  board[x][y] != empty:\n",
        "        print(\"That is an invalid spot\",)\n",
        "        return False\n",
        "    else:\n",
        "        board[x][y]=player\n",
        "    return True"
      ]
    },
    {
      "cell_type": "code",
      "source": [
        "chart2=game_play(3,3)\n",
        "draw_chart(chart2)\n",
        "\n",
        "print('----------')\n",
        "\n",
        "make_move(chart2, player_1,(0,1))\n",
        "draw_chart(chart2)\n",
        "\n",
        "print('----------')\n",
        "\n",
        "make_move(chart2, player_2,(0,0))\n",
        "draw_chart(chart2)\n",
        "\n",
        "print('----------')\n",
        "\n",
        "make_move(chart2, player_2,(0,1))\n",
        "draw_chart(chart2)\n",
        "\n",
        "print('----------')\n",
        "\n",
        "make_move(chart2, player_2,(3,2))\n",
        "draw_chart(chart2)"
      ],
      "metadata": {
        "colab": {
          "base_uri": "https://localhost:8080/"
        },
        "id": "f9G2_BJGq-AU",
        "outputId": "b336299c-948f-42e0-8982-9d920b60fd65"
      },
      "execution_count": null,
      "outputs": [
        {
          "output_type": "stream",
          "name": "stdout",
          "text": [
            " --- --- ---\n",
            "|   |   |   | \n",
            " --- --- ---\n",
            "|   |   |   | \n",
            " --- --- ---\n",
            "|   |   |   | \n",
            " --- --- ---\n",
            "----------\n",
            " --- --- ---\n",
            "|   | X |   | \n",
            " --- --- ---\n",
            "|   |   |   | \n",
            " --- --- ---\n",
            "|   |   |   | \n",
            " --- --- ---\n",
            "----------\n",
            " --- --- ---\n",
            "| O | X |   | \n",
            " --- --- ---\n",
            "|   |   |   | \n",
            " --- --- ---\n",
            "|   |   |   | \n",
            " --- --- ---\n",
            "----------\n",
            "That is an invalid spot\n",
            " --- --- ---\n",
            "| O | X |   | \n",
            " --- --- ---\n",
            "|   |   |   | \n",
            " --- --- ---\n",
            "|   |   |   | \n",
            " --- --- ---\n",
            "----------\n",
            "Location is invalid\n",
            " --- --- ---\n",
            "| O | X |   | \n",
            " --- --- ---\n",
            "|   |   |   | \n",
            " --- --- ---\n",
            "|   |   |   | \n",
            " --- --- ---\n"
          ]
        }
      ]
    },
    {
      "cell_type": "markdown",
      "metadata": {
        "id": "wSoLeTb4oC3C"
      },
      "source": [
        "*Exercise 6:* Modify Exercise 3 to show column and row labels so that players can specify location using \"A2\" or \"C1\"."
      ]
    },
    {
      "cell_type": "code",
      "execution_count": null,
      "metadata": {
        "collapsed": true,
        "id": "miW_DvQNoC3C"
      },
      "outputs": [],
      "source": [
        "row_names = \"ABCDEFGHIJKLMNOPQRSTUVWXYZ\"\n",
        "row_map = dict(zip(row_names,range(num_rows)))\n",
        "\n",
        "column_names = list(map(str,range(1,num_cols+1)))\n",
        "column_map = dict(zip(column_names,range(num_cols)))\n",
        "\n",
        "def draw_board(board):\n",
        "    num_rows = len(board)\n",
        "    num_cols = len(board[0])\n",
        "\n",
        "    print(\"   \",end=\" \")\n",
        "    for i in range(num_cols):\n",
        "        print(column_names[i],end=\" \")\n",
        "        print(\" \",end = \" \")\n",
        "\n",
        "    print()\n",
        "    print(\"  \",end=\" \")\n",
        "    print(\"--- \"*num_cols)\n",
        "    for i in range(num_rows):\n",
        "        print(row_names[i],end=\" \")\n",
        "        print(\"|\",end=\" \")\n",
        "        for j in range(num_cols):\n",
        "            print(space_character[board[i][j]],end=\" \")\n",
        "            print(\"|\",end=\" \")\n",
        "        print()\n",
        "        print(\"  \",end=\" \")\n",
        "        print(\"--- \"*num_cols)"
      ]
    },
    {
      "cell_type": "code",
      "execution_count": null,
      "metadata": {
        "collapsed": true,
        "colab": {
          "base_uri": "https://localhost:8080/"
        },
        "id": "55M6emOCoC3D",
        "outputId": "fc0e17a3-4a05-4311-8e57-466417b3084c"
      },
      "outputs": [
        {
          "output_type": "stream",
          "name": "stdout",
          "text": [
            "    1   2   3   \n",
            "   --- --- --- \n",
            "A |   |   |   | \n",
            "   --- --- --- \n",
            "B | X |   | X | \n",
            "   --- --- --- \n",
            "C | O | O |   | \n",
            "   --- --- --- \n"
          ]
        }
      ],
      "source": [
        "board=[[0,0,0],[1,0,1],[2,2,0]]\n",
        "draw_board(board)"
      ]
    },
    {
      "cell_type": "markdown",
      "metadata": {
        "id": "dNaxS3QvoC3D"
      },
      "source": [
        "*Exercise 7:* Write a function that takes a board, player number, and location specified as in exercise 6 and then calls exercise 5 to correctly modify the board.  "
      ]
    },
    {
      "cell_type": "code",
      "execution_count": null,
      "metadata": {
        "collapsed": true,
        "id": "MmvArK1EoC3D"
      },
      "outputs": [],
      "source": [
        "def parse_location(location_string):\n",
        "    if not isinstance(location_string,str):\n",
        "        print_message(\"Bad input. Location must be a string.\")\n",
        "        return False\n",
        "\n",
        "    if len(location_string) != 2:\n",
        "        print_message(\"Bad input. Location must be 2 characters.\")\n",
        "        return False\n",
        "\n",
        "    row = location_string[0].upper()\n",
        "    col = location_string[1].upper()\n",
        "\n",
        "    if not row in row_names:\n",
        "        return False\n",
        "\n",
        "    if not col in column_names:\n",
        "        return False\n",
        "\n",
        "    return row_map[row],column_map[col]"
      ]
    },
    {
      "cell_type": "code",
      "execution_count": null,
      "metadata": {
        "collapsed": true,
        "colab": {
          "base_uri": "https://localhost:8080/"
        },
        "id": "aErBcmutoC3D",
        "outputId": "caf6044e-9eab-427b-dda5-1574cf5b24ce"
      },
      "outputs": [
        {
          "output_type": "stream",
          "name": "stdout",
          "text": [
            "(0, 0)\n",
            "(1, 0)\n",
            "False\n",
            "False\n"
          ]
        }
      ],
      "source": [
        "print(parse_location('A1'))\n",
        "print(parse_location('B1'))\n",
        "print(parse_location('C4'))\n",
        "print(parse_location('F6'))"
      ]
    },
    {
      "cell_type": "markdown",
      "metadata": {
        "id": "OT9b9gIaoC3D"
      },
      "source": [
        "*Exercise 8:* Write a function is called with a board and player number, takes input from the player using python's `input`, and modifies the board using your function from exercise 7. Note that you should keep asking for input until you have gotten a valid input that results in a valid move."
      ]
    },
    {
      "cell_type": "code",
      "execution_count": null,
      "metadata": {
        "collapsed": true,
        "id": "mEqvYIfIoC3D"
      },
      "outputs": [],
      "source": [
        "def nice_make_move(board,player,location):\n",
        "    loc = parse_location(location)\n",
        "\n",
        "    if loc:\n",
        "        return make_move(board,player,loc)\n",
        "    else:\n",
        "        print(\"Invalid move.\")\n",
        "        return False\n",
        "\n",
        "def take_move(board,player):\n",
        "    good_move = False\n",
        "\n",
        "    while not good_move:\n",
        "        location_string = input(\"Input location to place your piece:\")\n",
        "        if location_string==\"XX\":\n",
        "            good_move = \"end\"\n",
        "            return good_move\n",
        "        good_move = nice_make_move(board,player,location_string)"
      ]
    },
    {
      "cell_type": "code",
      "execution_count": null,
      "metadata": {
        "collapsed": true,
        "colab": {
          "base_uri": "https://localhost:8080/"
        },
        "id": "Osb28LhvoC3E",
        "outputId": "fb191159-c599-45d1-e77c-00db40882f57"
      },
      "outputs": [
        {
          "output_type": "stream",
          "name": "stdout",
          "text": [
            "Player 1 move\n",
            "Input location to place your piece:d4\n",
            "Invalid move.\n",
            "Input location to place your piece:a2\n",
            "    1   2   3   \n",
            "   --- --- --- \n",
            "A |   | X |   | \n",
            "   --- --- --- \n",
            "B |   |   |   | \n",
            "   --- --- --- \n",
            "C |   |   |   | \n",
            "   --- --- --- \n",
            "Player 2 move\n",
            "Input location to place your piece:c1\n",
            "    1   2   3   \n",
            "   --- --- --- \n",
            "A |   | X |   | \n",
            "   --- --- --- \n",
            "B |   |   |   | \n",
            "   --- --- --- \n",
            "C | O |   |   | \n",
            "   --- --- --- \n"
          ]
        }
      ],
      "source": [
        "print('Player 1 move')\n",
        "board3=game_play(3,3)\n",
        "take_move(board3,player_1)\n",
        "draw_board(board3)\n",
        "print('Player 2 move')\n",
        "take_move(board3,player_2)\n",
        "draw_board(board3)"
      ]
    },
    {
      "cell_type": "markdown",
      "metadata": {
        "id": "2ojwBe44oC3E"
      },
      "source": [
        "*Exercise 9:* Use all of the previous exercises to implement a full tic-tac-toe game, where an appropriate board is drawn, 2 players are repeatedly asked for a location coordinates of where they wish to place a mark, and the game status is checked until a player wins or a draw occurs."
      ]
    },
    {
      "cell_type": "code",
      "execution_count": null,
      "metadata": {
        "collapsed": true,
        "id": "IV3dZB3YoC3E"
      },
      "outputs": [],
      "source": [
        "import time\n",
        "\n",
        "def tictactoe_game():\n",
        "    print(\"---Hello! Welcome to TIC TAC TOE Game!---\")\n",
        "    time.sleep(1)\n",
        "\n",
        "    board = game_play(3,3)\n",
        "\n",
        "    player = player_1\n",
        "\n",
        "    this_game_state = -1\n",
        "\n",
        "    while this_game_state==-1:\n",
        "        draw_board(board)\n",
        "\n",
        "        print(\"Player\",player,\"move:\")\n",
        "        new_move = take_move(board,player)\n",
        "\n",
        "        if new_move == \"end\":\n",
        "            print(\"Player has exited the game\")\n",
        "            break\n",
        "        this_game_state = game_state(board)\n",
        "\n",
        "        if player==player_1:\n",
        "            player = player_2\n",
        "        else:\n",
        "            player = player_1\n",
        "\n",
        "    if not new_move == \"end\":\n",
        "        draw_board(board)\n",
        "        if this_game_state == 0:\n",
        "            print(\"The game is a draw\")\n",
        "        else:\n",
        "            print(\"Winner is player\",this_game_state)"
      ]
    },
    {
      "cell_type": "code",
      "execution_count": null,
      "metadata": {
        "collapsed": true,
        "colab": {
          "base_uri": "https://localhost:8080/"
        },
        "id": "F2Ukoz1EoC3E",
        "outputId": "27727193-8e69-4560-c8e3-12e25c37b91d"
      },
      "outputs": [
        {
          "output_type": "stream",
          "name": "stdout",
          "text": [
            "---Hello! Welcome to TIC TAC TOE Game!---\n",
            "    1   2   3   \n",
            "   --- --- --- \n",
            "A |   |   |   | \n",
            "   --- --- --- \n",
            "B |   |   |   | \n",
            "   --- --- --- \n",
            "C |   |   |   | \n",
            "   --- --- --- \n",
            "Player 1 move:\n",
            "Input location to place your piece:a3\n",
            "    1   2   3   \n",
            "   --- --- --- \n",
            "A |   |   | X | \n",
            "   --- --- --- \n",
            "B |   |   |   | \n",
            "   --- --- --- \n",
            "C |   |   |   | \n",
            "   --- --- --- \n",
            "Player 2 move:\n",
            "Input location to place your piece:c2\n",
            "    1   2   3   \n",
            "   --- --- --- \n",
            "A |   |   | X | \n",
            "   --- --- --- \n",
            "B |   |   |   | \n",
            "   --- --- --- \n",
            "C |   | O |   | \n",
            "   --- --- --- \n",
            "Player 1 move:\n",
            "Input location to place your piece:b2\n",
            "    1   2   3   \n",
            "   --- --- --- \n",
            "A |   |   | X | \n",
            "   --- --- --- \n",
            "B |   | X |   | \n",
            "   --- --- --- \n",
            "C |   | O |   | \n",
            "   --- --- --- \n",
            "Player 2 move:\n",
            "Input location to place your piece:a2\n",
            "    1   2   3   \n",
            "   --- --- --- \n",
            "A |   | O | X | \n",
            "   --- --- --- \n",
            "B |   | X |   | \n",
            "   --- --- --- \n",
            "C |   | O |   | \n",
            "   --- --- --- \n",
            "Player 1 move:\n",
            "Input location to place your piece:c1\n",
            "    1   2   3   \n",
            "   --- --- --- \n",
            "A |   | O | X | \n",
            "   --- --- --- \n",
            "B |   | X |   | \n",
            "   --- --- --- \n",
            "C | X | O |   | \n",
            "   --- --- --- \n",
            "Winner is player 1\n"
          ]
        }
      ],
      "source": [
        "tictactoe_game()"
      ]
    },
    {
      "cell_type": "markdown",
      "metadata": {
        "id": "tovtc2UPoC3E"
      },
      "source": [
        "*Exercise 10:* Test that your game works for 5x5 Tic Tac Toe.  "
      ]
    },
    {
      "cell_type": "code",
      "execution_count": null,
      "metadata": {
        "collapsed": true,
        "id": "0s6xzcXjoC3F"
      },
      "outputs": [],
      "source": [
        "player_1 = 1\n",
        "player_2 = 2\n",
        "empty = 0\n",
        "\n",
        "player_1_piece = \"X\"\n",
        "player_2_piece = \"O\"\n",
        "empty_space = \" \"\n",
        "\n",
        "space_character = {player_1: player_1_piece,\n",
        "                  player_2: player_2_piece,\n",
        "                  empty: empty_space}\n",
        "\n",
        "num_rows = 5\n",
        "num_cols = 5"
      ]
    },
    {
      "cell_type": "code",
      "source": [
        "def make_game_board(num_rows,num_cols):\n",
        "    board = [[empty]*num_cols for i in range(num_rows)]\n",
        "    return board"
      ],
      "metadata": {
        "id": "82X-E1L3u6pP"
      },
      "execution_count": null,
      "outputs": []
    },
    {
      "cell_type": "code",
      "source": [
        "row_names = \"ABCDEFGHIJKLMNOPQRSTUVWXYZ\"\n",
        "row_map = dict(zip(row_names,range(num_rows)))\n",
        "\n",
        "column_names = list(map(str,range(1,num_cols+1)))\n",
        "column_map = dict(zip(column_names,range(num_cols)))\n",
        "\n",
        "def draw_board(board):\n",
        "    num_rows = len(board)\n",
        "    num_cols = len(board[0])\n",
        "\n",
        "    print(\"   \",end=\" \")\n",
        "    for i in range(num_cols):\n",
        "        print(column_names[i],end=\" \")\n",
        "        print(\" \",end = \" \")\n",
        "\n",
        "    print()\n",
        "    print(\"  \",end=\" \")\n",
        "    print(\"--- \"*num_cols)\n",
        "    for i in range(num_rows):\n",
        "        print(row_names[i],end=\" \")\n",
        "        print(\"|\",end=\" \")\n",
        "        for j in range(num_cols):\n",
        "            print(space_character[board[i][j]],end=\" \")\n",
        "            print(\"|\",end=\" \")\n",
        "        print()\n",
        "        print(\"  \",end=\" \")\n",
        "        print(\"--- \"*num_cols)"
      ],
      "metadata": {
        "id": "yjPdKeC0u9Yk"
      },
      "execution_count": null,
      "outputs": []
    },
    {
      "cell_type": "code",
      "source": [
        "def print_message(message, verbose=True):\n",
        "    if verbose:\n",
        "        print(message)\n",
        "\n",
        "def make_move(board,player,location,verbose=True):\n",
        "    x,y = location\n",
        "    # Check if space is empty\n",
        "    if board[x][y] != empty:\n",
        "        print_message(\"Invalid move: space is not empty\")\n",
        "        return False\n",
        "    else:\n",
        "        # Place player piece there\n",
        "        board[x][y] = player\n",
        "        return True"
      ],
      "metadata": {
        "id": "RSwT_3zBu_gL"
      },
      "execution_count": null,
      "outputs": []
    },
    {
      "cell_type": "code",
      "source": [
        "def parse_location(location_string):\n",
        "    if not isinstance(location_string,str):\n",
        "        print_message(\"Bad input. Location must be a string.\")\n",
        "        return False\n",
        "\n",
        "    if len(location_string) != 2:\n",
        "        print_message(\"Bad input. Location must be 2 characters.\")\n",
        "        return False\n",
        "\n",
        "    row = location_string[0].upper()\n",
        "    col = location_string[1].upper()\n",
        "\n",
        "    if not row in row_names:\n",
        "        print_message(\"This is not an existing row.\")\n",
        "        return False\n",
        "\n",
        "    if not col in column_names:\n",
        "        print_message(\"This is not an existing column.\")\n",
        "        return False\n",
        "\n",
        "    return row_map[row],column_map[col]"
      ],
      "metadata": {
        "id": "PfFLknjDvC0E"
      },
      "execution_count": null,
      "outputs": []
    },
    {
      "cell_type": "code",
      "source": [
        "def nice_make_move(board,player,location):\n",
        "    loc = parse_location(location)\n",
        "\n",
        "    if loc:\n",
        "        return make_move(board,player,loc)\n",
        "    else:\n",
        "        print_message(\"Invalid move.\")\n",
        "        return False\n",
        "\n",
        "def take_move(board,player):\n",
        "    good_move = False\n",
        "\n",
        "    while not good_move:\n",
        "        location_string = input(\"Input location to place your piece:\")\n",
        "        if location_string==\"XX\":\n",
        "            good_move = \"end\"\n",
        "            return good_move\n",
        "        good_move = nice_make_move(board,player,location_string)"
      ],
      "metadata": {
        "id": "tGcN8RMTvFJD"
      },
      "execution_count": null,
      "outputs": []
    },
    {
      "cell_type": "code",
      "source": [
        "def game_state(board):\n",
        "\n",
        "    def is_winner(lst):\n",
        "        if lst == [player_1]*len(lst):\n",
        "            return player_1\n",
        "        elif lst == [player_2]*len(lst):\n",
        "            return player_2\n",
        "        else:\n",
        "            return False\n",
        "\n",
        "    # Check row winner\n",
        "    def row_winner():\n",
        "        for i in range(num_rows):\n",
        "            if board[i] == [player_1]*num_cols:\n",
        "                return player_1\n",
        "            if board[i] == [player_2]*num_cols:\n",
        "                return player_2\n",
        "\n",
        "        return False\n",
        "\n",
        "    # Check column winner\n",
        "    col_list = []\n",
        "    for i in range(num_cols):\n",
        "        col = []\n",
        "        for j in range(num_rows):\n",
        "            col.append(board[j][i])\n",
        "        col_list.append(col)\n",
        "\n",
        "    def col_winner():\n",
        "        for i in range(num_cols):\n",
        "            if is_winner(col_list[i]) == player_1:\n",
        "                return player_1\n",
        "            if is_winner(col_list[i]) == player_2:\n",
        "                return player_2\n",
        "        return False\n",
        "\n",
        "    diag = []\n",
        "    anti_diag = []\n",
        "    for j in range(num_rows):\n",
        "        diag.append(board[j][j])\n",
        "        anti_diag.append(board[j][num_cols-j-1])\n",
        "    diag_list = [diag, anti_diag]\n",
        "\n",
        "    def diag_winner():\n",
        "        for i in range(2):\n",
        "            if is_winner(diag_list[i]) == player_1:\n",
        "                return player_1\n",
        "            if is_winner(diag_list[i]) == player_2:\n",
        "                return player_2\n",
        "        return False\n",
        "\n",
        "    def is_full():\n",
        "        n = 0\n",
        "        for i in range(num_rows):\n",
        "            for j in range(num_cols):\n",
        "                if board[i][j] != empty:\n",
        "                    n+=1\n",
        "        if n==(num_rows*num_cols):\n",
        "            return True\n",
        "        else:\n",
        "            return False\n",
        "\n",
        "    def winner():\n",
        "        row_state = row_winner()\n",
        "        col_state = col_winner()\n",
        "        diag_state = diag_winner()\n",
        "        if row_state:\n",
        "            return row_state\n",
        "        elif col_state:\n",
        "            return col_state\n",
        "        elif diag_winner():\n",
        "            return diag_state\n",
        "        else:\n",
        "            return False\n",
        "\n",
        "    if winner():\n",
        "        return winner()\n",
        "    elif is_full():\n",
        "        return 0\n",
        "    else:\n",
        "        return -1"
      ],
      "metadata": {
        "id": "LopojAcRvHMw"
      },
      "execution_count": null,
      "outputs": []
    },
    {
      "cell_type": "code",
      "source": [
        "def tictactoe_game():\n",
        "    print(\"Welcome to Tic-Tac-Toe!\")\n",
        "    print(\"--------------------\")\n",
        "\n",
        "    board_0 = make_game_board(5,5)\n",
        "\n",
        "    player = player_1\n",
        "\n",
        "    this_game_state = -1\n",
        "\n",
        "    while this_game_state==-1:\n",
        "        draw_board(board_0)\n",
        "\n",
        "        print(\"Player\",player,\"move:\")\n",
        "        new_move = take_move(board_0,player)\n",
        "\n",
        "        if new_move == \"end\":\n",
        "            print(\"Player has exited the game\")\n",
        "            break\n",
        "        this_game_state = game_state(board_0)\n",
        "\n",
        "        if player==player_1:\n",
        "            player = player_2\n",
        "        else:\n",
        "            player = player_1\n",
        "\n",
        "    if not new_move == \"end\":\n",
        "        draw_board(board_0)\n",
        "        if this_game_state == 0:\n",
        "            print(\"The game is a draw\")\n",
        "        else:\n",
        "            print(\"Winner is player\",this_game_state)"
      ],
      "metadata": {
        "id": "knMx3NUbvruP"
      },
      "execution_count": null,
      "outputs": []
    },
    {
      "cell_type": "code",
      "source": [
        "tictactoe_game()"
      ],
      "metadata": {
        "colab": {
          "base_uri": "https://localhost:8080/"
        },
        "id": "q3hBIjH7vtdC",
        "outputId": "817cb1c7-414b-4316-f032-e1bdd659904b"
      },
      "execution_count": null,
      "outputs": [
        {
          "output_type": "stream",
          "name": "stdout",
          "text": [
            "Welcome to Tic-Tac-Toe!\n",
            "--------------------\n",
            "    1   2   3   4   5   \n",
            "   --- --- --- --- --- \n",
            "A |   |   |   |   |   | \n",
            "   --- --- --- --- --- \n",
            "B |   |   |   |   |   | \n",
            "   --- --- --- --- --- \n",
            "C |   |   |   |   |   | \n",
            "   --- --- --- --- --- \n",
            "D |   |   |   |   |   | \n",
            "   --- --- --- --- --- \n",
            "E |   |   |   |   |   | \n",
            "   --- --- --- --- --- \n",
            "Player 1 move:\n",
            "Input location to place your piece:a1\n",
            "    1   2   3   4   5   \n",
            "   --- --- --- --- --- \n",
            "A | X |   |   |   |   | \n",
            "   --- --- --- --- --- \n",
            "B |   |   |   |   |   | \n",
            "   --- --- --- --- --- \n",
            "C |   |   |   |   |   | \n",
            "   --- --- --- --- --- \n",
            "D |   |   |   |   |   | \n",
            "   --- --- --- --- --- \n",
            "E |   |   |   |   |   | \n",
            "   --- --- --- --- --- \n",
            "Player 2 move:\n",
            "Input location to place your piece:b5\n",
            "    1   2   3   4   5   \n",
            "   --- --- --- --- --- \n",
            "A | X |   |   |   |   | \n",
            "   --- --- --- --- --- \n",
            "B |   |   |   |   | O | \n",
            "   --- --- --- --- --- \n",
            "C |   |   |   |   |   | \n",
            "   --- --- --- --- --- \n",
            "D |   |   |   |   |   | \n",
            "   --- --- --- --- --- \n",
            "E |   |   |   |   |   | \n",
            "   --- --- --- --- --- \n",
            "Player 1 move:\n",
            "Input location to place your piece:e5\n",
            "    1   2   3   4   5   \n",
            "   --- --- --- --- --- \n",
            "A | X |   |   |   |   | \n",
            "   --- --- --- --- --- \n",
            "B |   |   |   |   | O | \n",
            "   --- --- --- --- --- \n",
            "C |   |   |   |   |   | \n",
            "   --- --- --- --- --- \n",
            "D |   |   |   |   |   | \n",
            "   --- --- --- --- --- \n",
            "E |   |   |   |   | X | \n",
            "   --- --- --- --- --- \n",
            "Player 2 move:\n",
            "Input location to place your piece:b4\n",
            "    1   2   3   4   5   \n",
            "   --- --- --- --- --- \n",
            "A | X |   |   |   |   | \n",
            "   --- --- --- --- --- \n",
            "B |   |   |   | O | O | \n",
            "   --- --- --- --- --- \n",
            "C |   |   |   |   |   | \n",
            "   --- --- --- --- --- \n",
            "D |   |   |   |   |   | \n",
            "   --- --- --- --- --- \n",
            "E |   |   |   |   | X | \n",
            "   --- --- --- --- --- \n",
            "Player 1 move:\n",
            "Input location to place your piece:d4\n",
            "    1   2   3   4   5   \n",
            "   --- --- --- --- --- \n",
            "A | X |   |   |   |   | \n",
            "   --- --- --- --- --- \n",
            "B |   |   |   | O | O | \n",
            "   --- --- --- --- --- \n",
            "C |   |   |   |   |   | \n",
            "   --- --- --- --- --- \n",
            "D |   |   |   | X |   | \n",
            "   --- --- --- --- --- \n",
            "E |   |   |   |   | X | \n",
            "   --- --- --- --- --- \n",
            "Player 2 move:\n",
            "Input location to place your piece:c5\n",
            "    1   2   3   4   5   \n",
            "   --- --- --- --- --- \n",
            "A | X |   |   |   |   | \n",
            "   --- --- --- --- --- \n",
            "B |   |   |   | O | O | \n",
            "   --- --- --- --- --- \n",
            "C |   |   |   |   | O | \n",
            "   --- --- --- --- --- \n",
            "D |   |   |   | X |   | \n",
            "   --- --- --- --- --- \n",
            "E |   |   |   |   | X | \n",
            "   --- --- --- --- --- \n",
            "Player 1 move:\n",
            "Input location to place your piece:b2\n",
            "    1   2   3   4   5   \n",
            "   --- --- --- --- --- \n",
            "A | X |   |   |   |   | \n",
            "   --- --- --- --- --- \n",
            "B |   | X |   | O | O | \n",
            "   --- --- --- --- --- \n",
            "C |   |   |   |   | O | \n",
            "   --- --- --- --- --- \n",
            "D |   |   |   | X |   | \n",
            "   --- --- --- --- --- \n",
            "E |   |   |   |   | X | \n",
            "   --- --- --- --- --- \n",
            "Player 2 move:\n",
            "Input location to place your piece:c2\n",
            "    1   2   3   4   5   \n",
            "   --- --- --- --- --- \n",
            "A | X |   |   |   |   | \n",
            "   --- --- --- --- --- \n",
            "B |   | X |   | O | O | \n",
            "   --- --- --- --- --- \n",
            "C |   | O |   |   | O | \n",
            "   --- --- --- --- --- \n",
            "D |   |   |   | X |   | \n",
            "   --- --- --- --- --- \n",
            "E |   |   |   |   | X | \n",
            "   --- --- --- --- --- \n",
            "Player 1 move:\n",
            "Input location to place your piece:c3\n",
            "    1   2   3   4   5   \n",
            "   --- --- --- --- --- \n",
            "A | X |   |   |   |   | \n",
            "   --- --- --- --- --- \n",
            "B |   | X |   | O | O | \n",
            "   --- --- --- --- --- \n",
            "C |   | O | X |   | O | \n",
            "   --- --- --- --- --- \n",
            "D |   |   |   | X |   | \n",
            "   --- --- --- --- --- \n",
            "E |   |   |   |   | X | \n",
            "   --- --- --- --- --- \n",
            "Winner is player 1\n"
          ]
        }
      ]
    },
    {
      "cell_type": "markdown",
      "metadata": {
        "id": "H5Lwh-snoC3F"
      },
      "source": [
        "*Exercise 11:* (Advanced / Challenge) Develop a version of the game where one player is the computer. Note that you don't need to do an extensive seach for the best move. You can have the computer simply protect against loosing and otherwise try to win with straight or diagonal patterns."
      ]
    },
    {
      "cell_type": "code",
      "execution_count": null,
      "metadata": {
        "collapsed": true,
        "id": "41JB9cKcoC3F"
      },
      "outputs": [],
      "source": [
        "# Write you solution here"
      ]
    },
    {
      "cell_type": "code",
      "execution_count": null,
      "metadata": {
        "collapsed": true,
        "id": "8HyM4tcxoC3F"
      },
      "outputs": [],
      "source": [
        "# Test your solution here"
      ]
    }
  ],
  "metadata": {
    "kernelspec": {
      "display_name": "Python 3 (ipykernel)",
      "language": "python",
      "name": "python3"
    },
    "language_info": {
      "codemirror_mode": {
        "name": "ipython",
        "version": 3
      },
      "file_extension": ".py",
      "mimetype": "text/x-python",
      "name": "python",
      "nbconvert_exporter": "python",
      "pygments_lexer": "ipython3",
      "version": "3.9.6"
    },
    "colab": {
      "provenance": []
    }
  },
  "nbformat": 4,
  "nbformat_minor": 0
}