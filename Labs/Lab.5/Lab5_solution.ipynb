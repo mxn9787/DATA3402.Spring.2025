{
  "cells": [
    {
      "cell_type": "markdown",
      "metadata": {
        "id": "pnH-VLoj9ld-"
      },
      "source": [
        "# Lab 5\n"
      ]
    },
    {
      "cell_type": "markdown",
      "metadata": {
        "id": "-HKtVevL9leA"
      },
      "source": [
        "Matrix Representation: In this lab you will be creating a simple linear algebra system. In memory, we will represent matrices as nested python lists as we have done in lecture. In the exercises below, you are required to explicitly test every feature you implement, demonstrating it works.\n",
        "\n",
        "1. Create a `matrix` class with the following properties:\n",
        "    * It can be initialized in 2 ways:\n",
        "        1. with arguments `n` and `m`, the size of the matrix. A newly instanciated matrix will contain all zeros.\n",
        "        2. with a list of lists of values. Note that since we are using lists of lists to implement matrices, it is possible that not all rows have the same number of columns. Test explicitly that the matrix is properly specified.\n",
        "    * Matrix instances `M` can be indexed with `M[i][j]` and `M[i,j]`.\n",
        "    * Matrix assignment works in 2 ways:\n",
        "        1. If `M_1` and `M_2` are `matrix` instances `M_1=M_2` sets the values of `M_1` to those of `M_2`, if they are the same size. Error otherwise.\n",
        "        2. In example above `M_2` can be a list of lists of correct size.\n"
      ]
    },
    {
      "cell_type": "code",
      "source": [
        "#\n",
        "class Matrix:\n",
        "    def __init__(self, n=None, m=None, values=None):\n",
        "        if values:\n",
        "            if not all(len(row) == len(values[0]) for row in values):\n",
        "                raise ValueError(\"All rows must have the same number of columns\")\n",
        "            self.data = [list(row) for row in values]\n",
        "        elif n is not None and m is not None:\n",
        "            self.data = [[0] * m for _ in range(n)]\n",
        "        else:\n",
        "            raise ValueError(\"Invalid initialization parameters\")\n",
        "\n",
        "    def __repr__(self):\n",
        "        return \"\\n\".join(str(row) for row in self.data)"
      ],
      "metadata": {
        "id": "H8LuYvvXVpV9"
      },
      "execution_count": 63,
      "outputs": []
    },
    {
      "cell_type": "code",
      "source": [
        "m1 = Matrix(3, 3)  # apply 3x3 matrix contains all zeroes\n",
        "print(\"Zero Matrix:\")\n",
        "print(m1)\n",
        "\n",
        "m2 = Matrix(values=[[1, 5, 7], [4, 6, 3], [2, 8, 9]])  # matrix different assigned values\n",
        "print(\"\\nMatrix with values:\")\n",
        "print(m2)"
      ],
      "metadata": {
        "colab": {
          "base_uri": "https://localhost:8080/"
        },
        "id": "VJL4Jrh5Vyjc",
        "outputId": "edb20338-afb8-4931-c0c3-a439a435ea04"
      },
      "execution_count": 64,
      "outputs": [
        {
          "output_type": "stream",
          "name": "stdout",
          "text": [
            "Zero Matrix:\n",
            "[0, 0, 0]\n",
            "[0, 0, 0]\n",
            "[0, 0, 0]\n",
            "\n",
            "Matrix with values:\n",
            "[1, 5, 7]\n",
            "[4, 6, 3]\n",
            "[2, 8, 9]\n"
          ]
        }
      ]
    },
    {
      "cell_type": "code",
      "source": [
        "# test on different sizes of matrices to show invalid work\n",
        "try:\n",
        "    Matrix(values=[[1, 2], [3]])\n",
        "except ValueError as e:\n",
        "    print(\"\\nError:\", e)"
      ],
      "metadata": {
        "colab": {
          "base_uri": "https://localhost:8080/"
        },
        "id": "i0WWTtyyV0hD",
        "outputId": "f1885273-1542-421f-f2c0-0a0c4b709744"
      },
      "execution_count": 65,
      "outputs": [
        {
          "output_type": "stream",
          "name": "stdout",
          "text": [
            "\n",
            "Error: All rows must have the same number of columns\n"
          ]
        }
      ]
    },
    {
      "cell_type": "code",
      "source": [
        "# Matrix instances M can be indexed with M[i][j] and M[i,j].\n",
        "class Matrix:\n",
        "    def __init__(self, n=None, m=None, values=None):\n",
        "        if values:\n",
        "            if not all(len(row) == len(values[0]) for row in values):\n",
        "                raise ValueError(\"All rows must have the same number of columns\")\n",
        "            self.data = [list(row) for row in values]\n",
        "        elif n is not None and m is not None:\n",
        "            self.data = [[0] * m for _ in range(n)]\n",
        "        else:\n",
        "            raise ValueError(\"Invalid initialization parameters\")\n",
        "\n",
        "    def __getitem__(self, index):\n",
        "        if isinstance(index, tuple) and len(index) == 2:  # Tuple-style indexing (i, j)\n",
        "            i, j = index\n",
        "            return self.data[i][j]\n",
        "        return self.data[index]  # List-style indexing (M[i])\n",
        "\n",
        "    def __setitem__(self, index, value):\n",
        "        if isinstance(index, tuple) and len(index) == 2:  # Tuple-style assignment\n",
        "            i, j = index\n",
        "            self.data[i][j] = value\n",
        "        else:\n",
        "            raise TypeError(\"Invalid index type\")\n",
        "\n",
        "    def __repr__(self):\n",
        "        return \"\\n\".join(str(row) for row in self.data)"
      ],
      "metadata": {
        "id": "JFOvHlDBWXAe"
      },
      "execution_count": 66,
      "outputs": []
    },
    {
      "cell_type": "code",
      "source": [
        "m = Matrix(values=[[1, 2, 3], [4, 5, 6], [7, 8, 9]])\n",
        "\n",
        "# Access using standard list\n",
        "print(\"All row 1 elements are:\", m[1])  # dislay all elements in row 1\n",
        "\n",
        "# Access using tuple\n",
        "print(\"Element at (1,1) is\", m[1, 1])  # display the number located at row 1 column 1\n",
        "\n",
        "# Modify an element\n",
        "m[1, 1] = 10 # modified row 1 column 1 number to the assigned number\n",
        "print(\"\\nMatrix after modifying (1,1) to 10:\")\n",
        "print(m) # display the matrix after row 1 column 1 is modified"
      ],
      "metadata": {
        "colab": {
          "base_uri": "https://localhost:8080/"
        },
        "id": "HkIe3mbTW9LY",
        "outputId": "cf82e8fd-6035-48e2-8398-8685a18d73b5"
      },
      "execution_count": 67,
      "outputs": [
        {
          "output_type": "stream",
          "name": "stdout",
          "text": [
            "All row 1 elements are: [4, 5, 6]\n",
            "Element at (1,1) is 5\n",
            "\n",
            "Matrix after modifying (1,1) to 10:\n",
            "[1, 2, 3]\n",
            "[4, 10, 6]\n",
            "[7, 8, 9]\n"
          ]
        }
      ]
    },
    {
      "cell_type": "code",
      "source": [
        "class Matrix:\n",
        "    def __init__(self, n=None, m=None, values=None):\n",
        "        if values:\n",
        "            if not all(len(row) == len(values[0]) for row in values):\n",
        "                raise ValueError(\"All rows must have the same number of columns\")\n",
        "            self.data = [list(row) for row in values]\n",
        "        elif n is not None and m is not None:\n",
        "            self.data = [[0] * m for _ in range(n)]\n",
        "        else:\n",
        "            raise ValueError(\"Invalid initialization parameters\")\n",
        "\n",
        "    def __getitem__(self, index):\n",
        "        if isinstance(index, tuple) and len(index) == 2:\n",
        "            i, j = index\n",
        "            return self.data[i][j]\n",
        "        return self.data[index]\n",
        "\n",
        "    def __setitem__(self, index, value):\n",
        "        if isinstance(index, tuple) and len(index) == 2:\n",
        "            i, j = index\n",
        "            self.data[i][j] = value\n",
        "        else:\n",
        "            raise TypeError(\"Invalid index type\")\n",
        "\n",
        "    def assign(self, other):\n",
        "        \"\"\"Assign values from another Matrix instance or list of lists.\"\"\"\n",
        "        if isinstance(other, Matrix):\n",
        "            if len(self.data) != len(other.data) or len(self.data[0]) != len(other.data[0]):\n",
        "                raise ValueError(\"Matrix dimensions must match for assignment\")\n",
        "            self.data = [row[:] for row in other.data]  # Deep copy\n",
        "        elif isinstance(other, list):\n",
        "            if not all(len(row) == len(self.data[0]) for row in other):\n",
        "                raise ValueError(\"List of lists must match the matrix dimensions\")\n",
        "            self.data = [row[:] for row in other]  # Deep copy\n",
        "        else:\n",
        "            raise TypeError(\"Assignment only works with another matrix or list of lists\")\n",
        "\n",
        "    def __repr__(self):\n",
        "        return \"\\n\".join(str(row) for row in self.data)"
      ],
      "metadata": {
        "id": "MgUnsLcsYugS"
      },
      "execution_count": 68,
      "outputs": []
    },
    {
      "cell_type": "code",
      "source": [
        "m1 = Matrix(3, 3)  # Zero matrix\n",
        "m2 = Matrix(values=[[1, 2, 3], [4, 5, 6], [7, 8, 9]])  # Matrix with values\n",
        "\n",
        "print(\"Before assignment:\")\n",
        "print(\"Matrix 1:\")\n",
        "print(m1)\n",
        "print(\"\\nMatrix 2:\")\n",
        "print(m2)\n",
        "\n",
        "# Assign m2 to m1\n",
        "m1.assign(m2)\n",
        "print(\"\\nAfter assigning Matrix 2 to Matrix 1:\")\n",
        "print(m1)\n",
        "\n",
        "# Assign a list of lists to m1\n",
        "m1.assign([[10, 20, 30], [40, 50, 60], [70, 80, 90]])\n",
        "print(\"\\nAfter assigning list of lists to Matrix 1:\")\n",
        "print(m1)\n"
      ],
      "metadata": {
        "colab": {
          "base_uri": "https://localhost:8080/"
        },
        "id": "c6YqsTpwYyg5",
        "outputId": "44539d49-d883-49a4-801d-b4a181054cde"
      },
      "execution_count": 71,
      "outputs": [
        {
          "output_type": "stream",
          "name": "stdout",
          "text": [
            "Before assignment:\n",
            "Matrix 1:\n",
            "[0, 0, 0]\n",
            "[0, 0, 0]\n",
            "[0, 0, 0]\n",
            "\n",
            "Matrix 2:\n",
            "[1, 2, 3]\n",
            "[4, 5, 6]\n",
            "[7, 8, 9]\n",
            "\n",
            "After assigning Matrix 2 to Matrix 1:\n",
            "[1, 2, 3]\n",
            "[4, 5, 6]\n",
            "[7, 8, 9]\n",
            "\n",
            "After assigning list of lists to Matrix 1:\n",
            "[10, 20, 30]\n",
            "[40, 50, 60]\n",
            "[70, 80, 90]\n"
          ]
        }
      ]
    },
    {
      "cell_type": "code",
      "source": [
        "# mismatch sizes between matrices\n",
        "try:\n",
        "    m1.assign([[1, 2], [3, 4]])\n",
        "except ValueError as e:\n",
        "    print(\"\\nError:\", e)"
      ],
      "metadata": {
        "colab": {
          "base_uri": "https://localhost:8080/"
        },
        "id": "MQd29dVlZIuc",
        "outputId": "35785b92-c31f-4b18-f15a-4ba4810ba910"
      },
      "execution_count": 73,
      "outputs": [
        {
          "output_type": "stream",
          "name": "stdout",
          "text": [
            "\n",
            "Error: List of lists must match the matrix dimensions\n"
          ]
        }
      ]
    },
    {
      "cell_type": "markdown",
      "metadata": {
        "id": "af8PEu6R9leC"
      },
      "source": [
        "2. Add the following methods:\n",
        "    * `shape()`: returns a tuple `(n,m)` of the shape of the matrix.\n",
        "    * `transpose()`: returns a new matrix instance which is the transpose of the matrix.\n",
        "    * `row(n)` and `column(n)`: that return the nth row or column of the matrix M as a new appropriately shaped matrix object.\n",
        "    * `to_list()`: which returns the matrix as a list of lists.\n",
        "    *  `block(n_0,n_1,m_0,m_1)` that returns a smaller matrix located at the n_0 to n_1 columns and m_0 to m_1 rows.\n",
        "    * (Extra credit) Modify `__getitem__` implemented above to support slicing.\n",
        "        "
      ]
    },
    {
      "cell_type": "code",
      "source": [
        "class Matrix:\n",
        "    def __init__(self, n=None, m=None, values=None):\n",
        "        if values:\n",
        "            if not all(len(row) == len(values[0]) for row in values):\n",
        "                raise ValueError(\"All rows must have the same number of columns\")\n",
        "            self.data = [list(row) for row in values]\n",
        "        elif n is not None and m is not None:\n",
        "            self.data = [[0] * m for _ in range(n)]\n",
        "        else:\n",
        "            raise ValueError(\"Invalid initialization parameters\")\n",
        "\n",
        "    def __getitem__(self, index):\n",
        "        if isinstance(index, tuple) and len(index) == 2:\n",
        "            i, j = index\n",
        "            return self.data[i][j]\n",
        "        return self.data[index]\n",
        "\n",
        "    def __setitem__(self, index, value):\n",
        "        if isinstance(index, tuple) and len(index) == 2:\n",
        "            i, j = index\n",
        "            self.data[i][j] = value\n",
        "        else:\n",
        "            raise TypeError(\"Invalid index type\")\n",
        "\n",
        "    def assign(self, other):\n",
        "        \"\"\"Assign values from another Matrix instance or list of lists.\"\"\"\n",
        "        if isinstance(other, Matrix):\n",
        "            if len(self.data) != len(other.data) or len(self.data[0]) != len(other.data[0]):\n",
        "                raise ValueError(\"Matrix dimensions must match for assignment\")\n",
        "            self.data = [row[:] for row in other.data]  # Deep copy\n",
        "        elif isinstance(other, list):\n",
        "            if not all(len(row) == len(self.data[0]) for row in other):\n",
        "                raise ValueError(\"List of lists must match the matrix dimensions\")\n",
        "            self.data = [row[:] for row in other]  # Deep copy\n",
        "        else:\n",
        "            raise TypeError(\"Assignment only works with another matrix or list of lists\")\n",
        "\n",
        "    def shape(self):\n",
        "        \"\"\"Return the shape of the matrix as (n, m).\"\"\"\n",
        "        return len(self.data), len(self.data[0])\n",
        "\n",
        "    def transpose(self):\n",
        "        \"\"\"Return a new Matrix that is the transpose of the current matrix.\"\"\"\n",
        "        transposed = [[self.data[j][i] for j in range(len(self.data))] for i in range(len(self.data[0]))]\n",
        "        return Matrix(values=transposed)\n",
        "\n",
        "    def row(self, n):\n",
        "        \"\"\"Return the nth row as a new matrix.\"\"\"\n",
        "        if n < 0 or n >= len(self.data):\n",
        "            raise IndexError(\"Row index out of range\")\n",
        "        return Matrix(values=[self.data[n]])\n",
        "\n",
        "    def column(self, n):\n",
        "        \"\"\"Return the nth column as a new matrix.\"\"\"\n",
        "        if n < 0 or n >= len(self.data[0]):\n",
        "            raise IndexError(\"Column index out of range\")\n",
        "        return Matrix(values=[[self.data[i][n]] for i in range(len(self.data))])\n",
        "\n",
        "    def to_list(self):\n",
        "        \"\"\"Return the matrix as a list of lists.\"\"\"\n",
        "        return [row[:] for row in self.data]\n",
        "\n",
        "    def block(self, n_0, n_1, m_0, m_1):\n",
        "        \"\"\"Return a submatrix from rows n_0 to n_1 and columns m_0 to m_1.\"\"\"\n",
        "        if n_0 < 0 or n_1 > len(self.data) or m_0 < 0 or m_1 > len(self.data[0]):\n",
        "            raise IndexError(\"Block indices out of range\")\n",
        "        return Matrix(values=[row[m_0:m_1] for row in self.data[n_0:n_1]])\n",
        "\n",
        "    def __repr__(self):\n",
        "        return \"\\n\".join(str(row) for row in self.data)"
      ],
      "metadata": {
        "id": "BPOhCXQhSQ06"
      },
      "execution_count": 74,
      "outputs": []
    },
    {
      "cell_type": "code",
      "source": [
        "m = Matrix(values=[[1, 2, 3, 4], [5, 6, 7, 8], [9, 10, 11, 12]])\n",
        "\n",
        "# Test for shape\n",
        "print(\"Matrix:\")\n",
        "print(m)\n",
        "print(\"\\nShape of matrix:\", m.shape())  # Display the result of shape\n",
        "\n",
        "# Test for transpose\n",
        "m_transposed = m.transpose()\n",
        "print(\"\\nTransposed Matrix:\")\n",
        "print(m_transposed)\n",
        "print(\"\\nShape of transposed matrix:\", m_transposed.shape())  # display the result of transpose\n",
        "\n",
        "# Test for row of extraction\n",
        "print(\"Original Matrix:\")\n",
        "print(m)\n",
        "print(\"\\nRow 1:\")\n",
        "print(m.row(1))  # display the result of extraction row\n",
        "\n",
        "# Test for column extraction\n",
        "print(\"\\nColumn 2:\")\n",
        "print(m.column(2))  # display the result of column\n",
        "\n",
        "# Test for list\n",
        "print(\"Matrix as List:\")\n",
        "print(m.to_list())\n",
        "\n",
        "# Test block extraction\n",
        "print(\"\\nBlock (1:3, 1:4):\")\n",
        "print(m.block(1, 3, 1, 4))  # display the reult by extract 2x3 block"
      ],
      "metadata": {
        "colab": {
          "base_uri": "https://localhost:8080/"
        },
        "id": "Mf7hpM-eUNrM",
        "outputId": "539320ad-0c28-48ec-fd31-eef095d0f7dd"
      },
      "execution_count": 78,
      "outputs": [
        {
          "output_type": "stream",
          "name": "stdout",
          "text": [
            "Matrix:\n",
            "[1, 2, 3, 4]\n",
            "[5, 6, 7, 8]\n",
            "[9, 10, 11, 12]\n",
            "\n",
            "Shape of matrix: (3, 4)\n",
            "\n",
            "Transposed Matrix:\n",
            "[1, 5, 9]\n",
            "[2, 6, 10]\n",
            "[3, 7, 11]\n",
            "[4, 8, 12]\n",
            "\n",
            "Shape of transposed matrix: (4, 3)\n",
            "Original Matrix:\n",
            "[1, 2, 3, 4]\n",
            "[5, 6, 7, 8]\n",
            "[9, 10, 11, 12]\n",
            "\n",
            "Row 1:\n",
            "[5, 6, 7, 8]\n",
            "\n",
            "Column 2:\n",
            "[3]\n",
            "[7]\n",
            "[11]\n",
            "Matrix as List:\n",
            "[[1, 2, 3, 4], [5, 6, 7, 8], [9, 10, 11, 12]]\n",
            "\n",
            "Block (1:3, 1:4):\n",
            "[6, 7, 8]\n",
            "[10, 11, 12]\n"
          ]
        }
      ]
    },
    {
      "cell_type": "markdown",
      "metadata": {
        "id": "vJ-L2icu9leD"
      },
      "source": [
        "3. Write functions that create special matrices (note these are standalone functions, not member functions of your `matrix` class):\n",
        "    * `constant(n,m,c)`: returns a `n` by `m` matrix filled with floats of value `c`.\n",
        "    * `zeros(n,m)` and `ones(n,m)`: return `n` by `m` matrices filled with floats of value `0` and `1`, respectively.\n",
        "    * `eye(n)`: returns the n by n identity matrix."
      ]
    },
    {
      "cell_type": "code",
      "source": [
        "def constant(n, m, c):\n",
        "    return Matrix(n, m, values=[[c] * m for _ in range(n)])\n",
        "\n",
        "def zeros(n, m):\n",
        "    return constant(n, m, 0)\n",
        "\n",
        "def ones(n, m):\n",
        "    return constant(n, m, 1)\n",
        "\n",
        "def eye(n):\n",
        "    identity_matrix = [[1 if i == j else 0 for j in range(n)] for i in range(n)]\n",
        "    return Matrix(values=identity_matrix)\n"
      ],
      "metadata": {
        "id": "0Tt6Ai1iDnoa"
      },
      "execution_count": 82,
      "outputs": []
    },
    {
      "cell_type": "code",
      "source": [
        "print(\"Constant 3x3 Matrix with value 7:\")\n",
        "print(constant(3, 3, 7))\n",
        "\n",
        "print(\"\\n3x3 Zero Matrix:\")\n",
        "print(zeros(3, 3))\n",
        "\n",
        "print(\"\\n3x3 Ones Matrix:\")\n",
        "print(ones(3, 3))\n",
        "\n",
        "print(\"\\n4x4 Identity Matrix:\")\n",
        "print(eye(4))"
      ],
      "metadata": {
        "colab": {
          "base_uri": "https://localhost:8080/"
        },
        "id": "9Rp-zR4fckFi",
        "outputId": "976f07e0-28ed-4367-9f02-72ffeaa050ef"
      },
      "execution_count": 83,
      "outputs": [
        {
          "output_type": "stream",
          "name": "stdout",
          "text": [
            "Constant 3x3 Matrix with value 7:\n",
            "[7, 7, 7]\n",
            "[7, 7, 7]\n",
            "[7, 7, 7]\n",
            "\n",
            "3x3 Zero Matrix:\n",
            "[0, 0, 0]\n",
            "[0, 0, 0]\n",
            "[0, 0, 0]\n",
            "\n",
            "3x3 Ones Matrix:\n",
            "[1, 1, 1]\n",
            "[1, 1, 1]\n",
            "[1, 1, 1]\n",
            "\n",
            "4x4 Identity Matrix:\n",
            "[1, 0, 0, 0]\n",
            "[0, 1, 0, 0]\n",
            "[0, 0, 1, 0]\n",
            "[0, 0, 0, 1]\n"
          ]
        }
      ]
    },
    {
      "cell_type": "markdown",
      "metadata": {
        "id": "2nLhuh8T9leD"
      },
      "source": [
        "4. Add the following member functions to your class. Make sure to appropriately test the dimensions of the matrices to make sure the operations are correct.\n",
        "    * `M.scalarmul(c)`: a matrix that is scalar product $cM$, where every element of $M$ is multiplied by $c$.\n",
        "    * `M.add(N)`: adds two matrices $M$ and $N$. Don’t forget to test that the sizes of the matrices are compatible for this and all other operations.\n",
        "    * `M.sub(N)`: subtracts two matrices $M$ and $N$.\n",
        "    * `M.mat_mult(N)`: returns a matrix that is the matrix product of two matrices $M$ and $N$.\n",
        "    * `M.element_mult(N)`: returns a matrix that is the element-wise product of two matrices $M$ and $N$.\n",
        "    * `M.equals(N)`: returns true/false if $M==N$."
      ]
    },
    {
      "cell_type": "code",
      "source": [
        "class Matrix:\n",
        "    def __init__(self, n=None, m=None, values=None):\n",
        "        if values:\n",
        "            if not all(len(row) == len(values[0]) for row in values):\n",
        "                raise ValueError(\"All rows must have the same number of columns\")\n",
        "            self.data = [list(row) for row in values]\n",
        "        elif n is not None and m is not None:\n",
        "            self.data = [[0] * m for _ in range(n)]\n",
        "        else:\n",
        "            raise ValueError(\"Invalid initialization parameters\")\n",
        "\n",
        "    def __getitem__(self, index):\n",
        "        if isinstance(index, tuple) and len(index) == 2:\n",
        "            i, j = index\n",
        "            return self.data[i][j]\n",
        "        return self.data[index]\n",
        "\n",
        "    def __setitem__(self, index, value):\n",
        "        if isinstance(index, tuple) and len(index) == 2:\n",
        "            i, j = index\n",
        "            self.data[i][j] = value\n",
        "        else:\n",
        "            raise TypeError(\"Invalid index type\")\n",
        "\n",
        "    def shape(self):\n",
        "        return len(self.data), len(self.data[0])\n",
        "\n",
        "    def scalarmul(self, c):\n",
        "        return Matrix(values=[[c * self.data[i][j] for j in range(len(self.data[0]))] for i in range(len(self.data))])\n",
        "\n",
        "    def add(self, N):\n",
        "        if self.shape() != N.shape():\n",
        "            raise ValueError(\"Matrix dimensions must match for addition\")\n",
        "        return Matrix(values=[[self.data[i][j] + N[i, j] for j in range(len(self.data[0]))] for i in range(len(self.data))])\n",
        "\n",
        "    def sub(self, N):\n",
        "        if self.shape() != N.shape():\n",
        "            raise ValueError(\"Matrix dimensions must match for subtraction\")\n",
        "        return Matrix(values=[[self.data[i][j] - N[i, j] for j in range(len(self.data[0]))] for i in range(len(self.data))])\n",
        "\n",
        "    def mat_mult(self, N):\n",
        "        if self.shape()[1] != N.shape()[0]:\n",
        "            raise ValueError(\"Matrix dimensions must align for multiplication\")\n",
        "        result = [[sum(self.data[i][k] * N[k, j] for k in range(len(self.data[0]))) for j in range(N.shape()[1])] for i in range(len(self.data))]\n",
        "        return Matrix(values=result)\n",
        "\n",
        "    def element_mult(self, N):\n",
        "        if self.shape() != N.shape():\n",
        "            raise ValueError(\"Matrix dimensions must match for element-wise multiplication\")\n",
        "        return Matrix(values=[[self.data[i][j] * N[i, j] for j in range(len(self.data[0]))] for i in range(len(self.data))])\n",
        "\n",
        "    def equals(self, N):\n",
        "        return self.data == N.data\n",
        "\n",
        "    def __repr__(self):\n",
        "        return \"\\n\".join(str(row) for row in self.data)"
      ],
      "metadata": {
        "id": "d92vSzt1c_9p"
      },
      "execution_count": 84,
      "outputs": []
    },
    {
      "cell_type": "code",
      "source": [
        "m1 = Matrix(values=[[1, 2], [3, 4]])\n",
        "m2 = Matrix(values=[[5, 6], [7, 8]])\n",
        "\n",
        "print(\"Matrix 1:\")\n",
        "print(m1)\n",
        "\n",
        "print(\"\\nMatrix 2:\")\n",
        "print(m2)\n",
        "\n",
        "# Test for scalar multiplication\n",
        "print(\"\\nScalar Multiplication by 2:\")\n",
        "print(m1.scalarmul(2))\n",
        "\n",
        "# Test for addition\n",
        "print(\"\\nMatrix Addition:\")\n",
        "print(m1.add(m2))  # display the result of addition\n",
        "\n",
        "# Test for subtraction\n",
        "print(\"\\nMatrix Subtraction:\")\n",
        "print(m1.sub(m2))  # display the result of substraction\n",
        "\n",
        "# Test for multiplication\n",
        "print(\"\\nMatrix Multiplication:\")\n",
        "print(m1.mat_mult(m2))  # display the result of multiplication\n",
        "\n",
        "# Test for wise multiplication\n",
        "print(\"\\nElement-wise Multiplication:\")\n",
        "print(m1.element_mult(m2))  # display the result of wise multiplication\n",
        "\n",
        "# Test for equality\n",
        "print(\"\\nMatrix Equality (m1 == m2):\", m1.equals(m2))  # check if m1 equal m2\n",
        "print(\"Matrix Equality (m1 == m1):\", m1.equals(m1))  # check if m1 equal to m1"
      ],
      "metadata": {
        "colab": {
          "base_uri": "https://localhost:8080/"
        },
        "id": "o_3gP8hQdQjF",
        "outputId": "2562a17e-488a-4a68-918d-1cc2ddee1299"
      },
      "execution_count": 85,
      "outputs": [
        {
          "output_type": "stream",
          "name": "stdout",
          "text": [
            "Matrix 1:\n",
            "[1, 2]\n",
            "[3, 4]\n",
            "\n",
            "Matrix 2:\n",
            "[5, 6]\n",
            "[7, 8]\n",
            "\n",
            "Scalar Multiplication by 2:\n",
            "[2, 4]\n",
            "[6, 8]\n",
            "\n",
            "Matrix Addition:\n",
            "[6, 8]\n",
            "[10, 12]\n",
            "\n",
            "Matrix Subtraction:\n",
            "[-4, -4]\n",
            "[-4, -4]\n",
            "\n",
            "Matrix Multiplication:\n",
            "[19, 22]\n",
            "[43, 50]\n",
            "\n",
            "Element-wise Multiplication:\n",
            "[5, 12]\n",
            "[21, 32]\n",
            "\n",
            "Matrix Equality (m1 == m2): False\n",
            "Matrix Equality (m1 == m1): True\n"
          ]
        }
      ]
    },
    {
      "cell_type": "markdown",
      "metadata": {
        "id": "lENzuDiG9leE"
      },
      "source": [
        "5. Overload python operators to appropriately use your functions in 4 and allow expressions like:\n",
        "    * 2*M\n",
        "    * M*2\n",
        "    * M+N\n",
        "    * M-N\n",
        "    * M*N\n",
        "    * M==N\n",
        "    * M=N\n"
      ]
    },
    {
      "cell_type": "code",
      "source": [
        "class Matrix:\n",
        "    def __init__(self, n=None, m=None, values=None):\n",
        "        if values:\n",
        "            if not all(len(row) == len(values[0]) for row in values):\n",
        "                raise ValueError(\"All rows must have the same number of columns\")\n",
        "            self.data = [list(row) for row in values]\n",
        "        elif n is not None and m is not None:\n",
        "            self.data = [[0] * m for _ in range(n)]\n",
        "        else:\n",
        "            raise ValueError(\"Invalid initialization parameters\")\n",
        "\n",
        "    def shape(self):\n",
        "        \"\"\"Return the shape of the matrix as (n, m).\"\"\"\n",
        "        return len(self.data), len(self.data[0])\n",
        "\n",
        "    def __mul__(self, other):\n",
        "        \"\"\"Handle scalar multiplication and matrix multiplication.\"\"\"\n",
        "        if isinstance(other, (int, float)):  # Scalar multiplication (M * 2)\n",
        "            return Matrix(values=[[other * self.data[i][j] for j in range(len(self.data[0]))] for i in range(len(self.data))])\n",
        "        elif isinstance(other, Matrix):  # Matrix multiplication (M * N)\n",
        "            if self.shape()[1] != other.shape()[0]:\n",
        "                raise ValueError(\"Matrix dimensions must align for multiplication\")\n",
        "            result = [[sum(self.data[i][k] * other[k, j] for k in range(len(self.data[0]))) for j in range(other.shape()[1])] for i in range(len(self.data))]\n",
        "            return Matrix(values=result)\n",
        "        else:\n",
        "            raise TypeError(\"Unsupported multiplication\")\n",
        "\n",
        "    def __rmul__(self, other):\n",
        "        \"\"\"Handle scalar multiplication from the left (2 * M).\"\"\"\n",
        "        return self.__mul__(other)\n",
        "\n",
        "    def __add__(self, other):\n",
        "        \"\"\"Handle matrix addition (M + N).\"\"\"\n",
        "        if not isinstance(other, Matrix) or self.shape() != other.shape():\n",
        "            raise ValueError(\"Matrix dimensions must match for addition\")\n",
        "        return Matrix(values=[[self.data[i][j] + other[i, j] for j in range(len(self.data[0]))] for i in range(len(self.data))])\n",
        "\n",
        "    def __sub__(self, other):\n",
        "        \"\"\"Handle matrix subtraction (M - N).\"\"\"\n",
        "        if not isinstance(other, Matrix) or self.shape() != other.shape():\n",
        "            raise ValueError(\"Matrix dimensions must match for subtraction\")\n",
        "        return Matrix(values=[[self.data[i][j] - other[i, j] for j in range(len(self.data[0]))] for i in range(len(self.data))])\n",
        "\n",
        "    def __eq__(self, other):\n",
        "        \"\"\"Check if two matrices are equal (M == N).\"\"\"\n",
        "        return isinstance(other, Matrix) and self.data == other.data\n",
        "\n",
        "    def assign(self, other):\n",
        "        \"\"\"Assign values from another Matrix instance or list of lists.\"\"\"\n",
        "        if isinstance(other, Matrix):\n",
        "            if self.shape() != other.shape():\n",
        "                raise ValueError(\"Matrix dimensions must match for assignment\")\n",
        "            self.data = [row[:] for row in other.data]\n",
        "        elif isinstance(other, list):\n",
        "            if not all(len(row) == len(self.data[0]) for row in other):\n",
        "                raise ValueError(\"List of lists must match the matrix dimensions\")\n",
        "            self.data = [row[:] for row in other]\n",
        "        else:\n",
        "            raise TypeError(\"Assignment only works with another matrix or list of lists\")\n",
        "\n",
        "    def __getitem__(self, index):\n",
        "        \"\"\"Support both single index and slicing for rows and columns.\"\"\"\n",
        "        if isinstance(index, tuple):\n",
        "            if len(index) == 2:\n",
        "                i, j = index\n",
        "                return self.data[i][j]\n",
        "        elif isinstance(index, slice):\n",
        "            return Matrix(values=self.data[index])\n",
        "        return self.data[index]\n",
        "\n",
        "    def __repr__(self):\n",
        "        return \"\\n\".join(str(row) for row in self.data)"
      ],
      "metadata": {
        "id": "55u0CaFxfIlM"
      },
      "execution_count": 90,
      "outputs": []
    },
    {
      "cell_type": "code",
      "source": [
        "# test on 2 given matrices\n",
        "M = Matrix(values=[[1, 2], [3, 4]])\n",
        "N = Matrix(values=[[5, 6], [7, 8]])\n",
        "\n",
        "print(\"Matrix M:\")\n",
        "print(M)\n",
        "\n",
        "print(\"\\nMatrix N:\")\n",
        "print(N)\n",
        "\n",
        "# Test for scalar multiplication\n",
        "print(\"\\nScalar Multiplication (M * 2):\")\n",
        "print(M * 2)\n",
        "\n",
        "print(\"\\nScalar Multiplication (2 * M):\")\n",
        "print(2 * M)\n",
        "\n",
        "# Test for addition\n",
        "print(\"\\nMatrix Addition (M + N):\")\n",
        "print(M + N)\n",
        "\n",
        "# Test for subtraction\n",
        "print(\"\\nMatrix Subtraction (M - N):\")\n",
        "print(M - N)\n",
        "\n",
        "# Test for multiplication\n",
        "print(\"\\nMatrix Multiplication (M * N):\")\n",
        "print(M * N)\n",
        "\n",
        "# Test for equality\n",
        "print(\"\\nMatrix Equality (M == N):\", M == N)\n",
        "print(\"Matrix Equality (M == M):\", M == M)\n",
        "\n",
        "# Test matrix assignment\n",
        "M.assign(N)\n",
        "print(\"\\nMatrix M after assignment (M = N):\")\n",
        "print(M)  # display the result if M equal to N"
      ],
      "metadata": {
        "colab": {
          "base_uri": "https://localhost:8080/"
        },
        "id": "4K_EpGK3fNBC",
        "outputId": "e3e5c0ed-827a-4f95-9af5-46d056ab183b"
      },
      "execution_count": 89,
      "outputs": [
        {
          "output_type": "stream",
          "name": "stdout",
          "text": [
            "Matrix M:\n",
            "[1, 2]\n",
            "[3, 4]\n",
            "\n",
            "Matrix N:\n",
            "[5, 6]\n",
            "[7, 8]\n",
            "\n",
            "Scalar Multiplication (M * 2):\n",
            "[2, 4]\n",
            "[6, 8]\n",
            "\n",
            "Scalar Multiplication (2 * M):\n",
            "[2, 4]\n",
            "[6, 8]\n",
            "\n",
            "Matrix Addition (M + N):\n",
            "[6, 8]\n",
            "[10, 12]\n",
            "\n",
            "Matrix Subtraction (M - N):\n",
            "[-4, -4]\n",
            "[-4, -4]\n",
            "\n",
            "Matrix Multiplication (M * N):\n",
            "[19, 22]\n",
            "[43, 50]\n",
            "\n",
            "Matrix Equality (M == N): False\n",
            "Matrix Equality (M == M): True\n",
            "\n",
            "Matrix M after assignment (M = N):\n",
            "[5, 6]\n",
            "[7, 8]\n"
          ]
        }
      ]
    },
    {
      "cell_type": "markdown",
      "metadata": {
        "id": "R2E07e9P9leF"
      },
      "source": [
        "6. Demonstrate the basic properties of matrices with your matrix class by creating two 2 by 2 example matrices using your Matrix class and illustrating the following:\n",
        "\n",
        "$$\n",
        "(AB)C=A(BC)\n",
        "$$\n",
        "$$\n",
        "A(B+C)=AB+AC\n",
        "$$\n",
        "$$\n",
        "AB\\neq BA\n",
        "$$\n",
        "$$\n",
        "AI=A\n",
        "$$"
      ]
    },
    {
      "cell_type": "code",
      "source": [
        "# Test with given matrices as A, B and C\n",
        "A = Matrix(values=[[1, 2], [3, 4]])\n",
        "B = Matrix(values=[[2, 0], [1, 3]])\n",
        "C = Matrix(values=[[0, 1], [4, 2]])\n",
        "\n",
        "# Identify these matrices of 2x2\n",
        "I = Matrix(values=[[1, 0], [0, 1]])\n",
        "\n",
        "print(\"Matrix A:\")\n",
        "print(A)\n",
        "\n",
        "print(\"\\nMatrix B:\")\n",
        "print(B)\n",
        "\n",
        "print(\"\\nMatrix C:\")\n",
        "print(C)\n",
        "\n",
        "print(\"\\nIdentity Matrix I:\")\n",
        "print(I)\n",
        "\n",
        "# Check if AB(C)=A(BC)\n",
        "AB = A * B\n",
        "ABC_1 = AB * C  # indicate as (AB)C\n",
        "BC = B * C\n",
        "ABC_2 = A * BC  # indicate for A(BC)\n",
        "\n",
        "print(\"\\n(AB)C:\")\n",
        "print(ABC_1)\n",
        "\n",
        "print(\"\\nA(BC):\")\n",
        "print(ABC_2)\n",
        "\n",
        "print(\"\\nAssociative Property Verified:\", ABC_1 == ABC_2)\n",
        "\n",
        "# check if A(B+C)=AB+AC\n",
        "B_plus_C = B + C\n",
        "A_B_plus_C = A * B_plus_C  # indicate as A(B+C)\n",
        "AB = A * B\n",
        "AC = A * C\n",
        "AB_plus_AC = AB + AC  # indicate as AB+AC\n",
        "\n",
        "print(\"\\nA(B + C):\")\n",
        "print(A_B_plus_C)\n",
        "\n",
        "print(\"\\nAB + AC:\")\n",
        "print(AB_plus_AC)\n",
        "\n",
        "print(\"\\nDistributive Property Verified:\", A_B_plus_C == AB_plus_AC)\n",
        "\n",
        "# Check if AB≠BA\n",
        "BA = B * A\n",
        "\n",
        "print(\"\\nAB:\")\n",
        "print(AB)\n",
        "\n",
        "print(\"\\nBA:\")\n",
        "print(BA)\n",
        "\n",
        "print(\"\\nCommutative Property Verified (AB different from BA):\", AB != BA)\n",
        "\n",
        "# check if AI=A\n",
        "AI = A * I\n",
        "\n",
        "print(\"\\nAI:\")\n",
        "print(AI)\n",
        "\n",
        "print(\"\\nIdentity Property Verified (AI equal A):\", AI == A)"
      ],
      "metadata": {
        "colab": {
          "base_uri": "https://localhost:8080/"
        },
        "id": "fQobb0lAgSwH",
        "outputId": "68a5e70e-7109-4134-de9d-f5756729e2d4"
      },
      "execution_count": 93,
      "outputs": [
        {
          "output_type": "stream",
          "name": "stdout",
          "text": [
            "Matrix A:\n",
            "[1, 2]\n",
            "[3, 4]\n",
            "\n",
            "Matrix B:\n",
            "[2, 0]\n",
            "[1, 3]\n",
            "\n",
            "Matrix C:\n",
            "[0, 1]\n",
            "[4, 2]\n",
            "\n",
            "Identity Matrix I:\n",
            "[1, 0]\n",
            "[0, 1]\n",
            "\n",
            "(AB)C:\n",
            "[24, 16]\n",
            "[48, 34]\n",
            "\n",
            "A(BC):\n",
            "[24, 16]\n",
            "[48, 34]\n",
            "\n",
            "Associative Property Verified: True\n",
            "\n",
            "A(B + C):\n",
            "[12, 11]\n",
            "[26, 23]\n",
            "\n",
            "AB + AC:\n",
            "[12, 11]\n",
            "[26, 23]\n",
            "\n",
            "Distributive Property Verified: True\n",
            "\n",
            "AB:\n",
            "[4, 6]\n",
            "[10, 12]\n",
            "\n",
            "BA:\n",
            "[2, 4]\n",
            "[10, 14]\n",
            "\n",
            "Commutative Property Verified (AB different from BA): True\n",
            "\n",
            "AI:\n",
            "[1, 2]\n",
            "[3, 4]\n",
            "\n",
            "Identity Property Verified (AI equal A): True\n"
          ]
        }
      ]
    }
  ],
  "metadata": {
    "kernelspec": {
      "display_name": "Python 3 (ipykernel)",
      "language": "python",
      "name": "python3"
    },
    "language_info": {
      "codemirror_mode": {
        "name": "ipython",
        "version": 3
      },
      "file_extension": ".py",
      "mimetype": "text/x-python",
      "name": "python",
      "nbconvert_exporter": "python",
      "pygments_lexer": "ipython3",
      "version": "3.9.6"
    },
    "colab": {
      "provenance": []
    }
  },
  "nbformat": 4,
  "nbformat_minor": 0
}