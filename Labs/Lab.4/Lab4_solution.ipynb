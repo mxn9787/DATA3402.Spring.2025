{
  "cells": [
    {
      "cell_type": "markdown",
      "metadata": {
        "id": "DicPy1hW6ANu"
      },
      "source": [
        "# Lab 4- Object Oriented Programming\n",
        "\n",
        "For all of the exercises below, make sure you provide tests of your solutions.\n"
      ]
    },
    {
      "cell_type": "markdown",
      "metadata": {
        "id": "Dn_ta1mv6AN1"
      },
      "source": [
        "1. Write a \"counter\" class that can be incremented up to a specified maximum value, will print an error if an attempt is made to increment beyond that value, and allows reseting the counter."
      ]
    },
    {
      "cell_type": "code",
      "source": [
        "class Counter:\n",
        "  def __init__(self, max):\n",
        "    self.max = max\n",
        "    self.value = 0\n",
        "\n",
        "  def increment(self):\n",
        "    if self.value < self.max:\n",
        "      self.value += 1\n",
        "    else:\n",
        "      print(\"Error: Counter has reached its maximum value.\")\n",
        "\n",
        "  def reset(self):\n",
        "    self.value = 0\n",
        "\n",
        "  def get_value(self):\n",
        "    return self.value\n"
      ],
      "metadata": {
        "id": "88evq-AC6DJG"
      },
      "execution_count": null,
      "outputs": []
    },
    {
      "cell_type": "code",
      "source": [
        "counter = Counter(5)\n",
        "counter.increment()\n",
        "counter.increment()\n",
        "counter.increment()\n",
        "counter.increment()\n",
        "counter.increment()\n",
        "counter.increment()\n",
        "counter.increment()\n",
        "counter.increment()\n",
        "counter.increment()\n",
        "counter.increment()\n",
        "counter.increment()\n",
        "print(counter.get_value())\n",
        "counter.reset()\n",
        "counter.increment()"
      ],
      "metadata": {
        "colab": {
          "base_uri": "https://localhost:8080/"
        },
        "id": "Nr-j1LgX8B1Z",
        "outputId": "0dc47e72-3caf-4af9-c998-5e91e25bf714"
      },
      "execution_count": null,
      "outputs": [
        {
          "output_type": "stream",
          "name": "stdout",
          "text": [
            "Error: Counter has reached its maximum value.\n",
            "Error: Counter has reached its maximum value.\n",
            "Error: Counter has reached its maximum value.\n",
            "Error: Counter has reached its maximum value.\n",
            "Error: Counter has reached its maximum value.\n",
            "Error: Counter has reached its maximum value.\n",
            "5\n"
          ]
        }
      ]
    },
    {
      "cell_type": "markdown",
      "metadata": {
        "id": "auBDHKr06AN3"
      },
      "source": [
        "2. Copy and paste your solution to question 1 and modify it so that all the data held by the counter is private. Implement functions to check the value of the counter, check the maximum value, and check if the counter is at the maximum."
      ]
    },
    {
      "cell_type": "code",
      "execution_count": null,
      "metadata": {
        "id": "daAhYTQc6AN3"
      },
      "outputs": [],
      "source": [
        "class Counter:\n",
        "    def __init__(self, max_value):\n",
        "        self.value = 0\n",
        "        self.max_value = max_value\n",
        "\n",
        "    def increment(self):\n",
        "        if not self.check_counter():\n",
        "            self.value += 1\n",
        "            return self.value\n",
        "\n",
        "        else:\n",
        "            print(\"Error: Counter cannot be incremented beyond its maximum value.\")\n",
        "            return None\n",
        "\n",
        "    def reset(self):\n",
        "        self.value = 0\n",
        "\n",
        "    def get_counter_value(self):\n",
        "        return self.value\n",
        "\n",
        "    def get_max_value(self):\n",
        "        return self.max_value\n",
        "\n",
        "\n",
        "    def check_counter(self):\n",
        "        return self.value == self.max_value\n",
        "\n",
        "    def reset(self):\n",
        "        self.value = 0\n"
      ]
    },
    {
      "cell_type": "code",
      "source": [
        "counter = Counter(10)\n",
        "\n",
        "value = counter.increment()\n",
        "while(value != None):\n",
        "    print(value)\n",
        "    value = counter.increment()\n",
        "\n",
        "counter.reset()\n",
        "print(\"Current Counter value = \", counter.get_counter_value())\n",
        "print(\"Max Value =\", counter.get_max_value())"
      ],
      "metadata": {
        "colab": {
          "base_uri": "https://localhost:8080/"
        },
        "id": "QqQ_t3Lv8zR6",
        "outputId": "80819b7f-bee6-4d8c-d6be-0db27119f2a5"
      },
      "execution_count": null,
      "outputs": [
        {
          "output_type": "stream",
          "name": "stdout",
          "text": [
            "1\n",
            "2\n",
            "3\n",
            "4\n",
            "5\n",
            "6\n",
            "7\n",
            "8\n",
            "9\n",
            "10\n",
            "Error: Counter cannot be incremented beyond its maximum value.\n",
            "Current Counter value =  0\n",
            "Max Value = 10\n"
          ]
        }
      ]
    },
    {
      "cell_type": "markdown",
      "metadata": {
        "id": "3h2r75ze6AN4"
      },
      "source": [
        "3. Implement a class to represent a rectangle, holding the length, width, and $x$ and $y$ coordinates of a corner of the object. Implement functions that compute the area and perimeter of the rectangle. Make all data members private and privide accessors to retrieve values of data members."
      ]
    },
    {
      "cell_type": "code",
      "execution_count": null,
      "metadata": {
        "id": "3Ffa0tIh6AN4"
      },
      "outputs": [],
      "source": [
        "class Rectangle:\n",
        "    def __init__(self, x, y, length, width):\n",
        "        self._x = x\n",
        "        self._y = y\n",
        "        self._length = length\n",
        "        self._width = width\n",
        "\n",
        "    def get_x(self):\n",
        "        return self._x\n",
        "\n",
        "    def get_y(self):\n",
        "        return self._y\n",
        "\n",
        "    def get_length(self):\n",
        "        return self._length\n",
        "\n",
        "    def get_width(self):\n",
        "        return self._width\n",
        "\n",
        "    def set_x(self, x):\n",
        "        self._x = x\n",
        "\n",
        "    def set_y(self, y):\n",
        "        self._y = y\n",
        "\n",
        "    def set_length(self, length):\n",
        "        self._length = length\n",
        "\n",
        "    def set_width(self, width):\n",
        "        self._width = width\n",
        "\n",
        "    def area(self):\n",
        "        return self._length * self._width\n",
        "\n",
        "    def perimeter(self):\n",
        "        return 2 * (self._length + self._width)"
      ]
    },
    {
      "cell_type": "code",
      "source": [
        "rect = Rectangle(0, 0, 5, 3)\n",
        "\n",
        "print(rect.get_length())\n",
        "print(rect.get_width())\n",
        "\n",
        "rect.set_length(10)\n",
        "rect.set_width(7)\n",
        "\n",
        "print(rect.get_length())\n",
        "print(rect.get_width())\n",
        "\n",
        "print(rect.area())\n",
        "print(rect.perimeter())"
      ],
      "metadata": {
        "colab": {
          "base_uri": "https://localhost:8080/"
        },
        "id": "IymvxOMJ9A5Z",
        "outputId": "2b5e038a-d862-4461-cf01-f1570f4b5abc"
      },
      "execution_count": null,
      "outputs": [
        {
          "output_type": "stream",
          "name": "stdout",
          "text": [
            "5\n",
            "3\n",
            "10\n",
            "7\n",
            "70\n",
            "34\n"
          ]
        }
      ]
    },
    {
      "cell_type": "markdown",
      "metadata": {
        "id": "BuhVxMec6AN5"
      },
      "source": [
        "4. Implement a class to represent a circle, holding the radius and $x$ and $y$ coordinates of center of the object. Implement functions that compute the area and perimeter of the rectangle. Make all data members private and privide accessors to retrieve values of data members."
      ]
    },
    {
      "cell_type": "code",
      "execution_count": null,
      "metadata": {
        "id": "6kowBvqx6AN5"
      },
      "outputs": [],
      "source": [
        "import math\n",
        "\n",
        "class Circle:\n",
        "    def __init__(self, x, y, radius):\n",
        "        self._x = x\n",
        "        self._y = y\n",
        "        self._radius = radius\n",
        "\n",
        "    def get_x(self):\n",
        "        return self._x\n",
        "\n",
        "    def get_y(self):\n",
        "        return self._y\n",
        "\n",
        "    def get_radius(self):\n",
        "        return self._radius\n",
        "\n",
        "    def set_x(self, x):\n",
        "        self._x = x\n",
        "\n",
        "    def set_y(self, y):\n",
        "        self._y = y\n",
        "\n",
        "    def set_radius(self, radius):\n",
        "        self._radius = radius\n",
        "\n",
        "    def area(self):\n",
        "        return math.pi * self._radius ** 2\n",
        "\n",
        "    def perimeter(self):\n",
        "        return 2 * math.pi * self._radius"
      ]
    },
    {
      "cell_type": "code",
      "source": [
        "c = Circle(5, 0, 0)\n",
        "\n",
        "print(\"Radius:\", c.get_radius())\n",
        "print(\"X-coordinate:\", c.get_x())\n",
        "print(\"Y-coordinate:\", c.get_y())\n",
        "print(\"Area:\", c.area())\n",
        "print(\"Perimeter:\", c.perimeter())"
      ],
      "metadata": {
        "colab": {
          "base_uri": "https://localhost:8080/"
        },
        "id": "EmeQ49dX-rw6",
        "outputId": "87225839-387e-463e-cb16-8190b42e176f"
      },
      "execution_count": null,
      "outputs": [
        {
          "output_type": "stream",
          "name": "stdout",
          "text": [
            "Radius: 0\n",
            "X-coordinate: 5\n",
            "Y-coordinate: 0\n",
            "Area: 0.0\n",
            "Perimeter: 0.0\n"
          ]
        }
      ]
    },
    {
      "cell_type": "markdown",
      "metadata": {
        "id": "eD5XvDKg6AN6"
      },
      "source": [
        "5. Implement a common base class for the classes implemented in 3 and 4 above which implements all common methods as not implemented functions (virtual). Re-implement your regtangle and circule classes to inherit from the base class and overload the functions accordingly."
      ]
    },
    {
      "cell_type": "code",
      "execution_count": null,
      "metadata": {
        "id": "DWEggP5P6AN6"
      },
      "outputs": [],
      "source": [
        "import math\n",
        "\n",
        "class Shape:\n",
        "    def area(self):\n",
        "        pass\n",
        "\n",
        "    def perimeter(self):\n",
        "        pass\n",
        "\n",
        "class Rectangle(Shape):\n",
        "    def __init__(self, width, height):\n",
        "        self.__width = width\n",
        "        self.__height = height\n",
        "\n",
        "    def get_width(self):\n",
        "        return self.__width\n",
        "\n",
        "    def get_height(self):\n",
        "        return self.__height\n",
        "\n",
        "    def set_width(self, width):\n",
        "        self.__width = width\n",
        "\n",
        "    def set_height(self, height):\n",
        "        self.__height = height\n",
        "\n",
        "    def area(self):\n",
        "        return self.__width * self.__height\n",
        "\n",
        "    def perimeter(self):\n",
        "        return 2 * (self.__width + self.__height)\n",
        "\n",
        "class Circle(Shape):\n",
        "    def __init__(self, radius, x, y):\n",
        "        self.__radius = radius\n",
        "        self.__x = x\n",
        "        self.__y = y\n",
        "\n",
        "    def get_radius(self):\n",
        "        return self.__radius\n",
        "\n",
        "    def get_x(self):\n",
        "        return self.__x\n",
        "\n",
        "    def get_y(self):\n",
        "        return self.__y\n",
        "\n",
        "    def set_radius(self, radius):\n",
        "        self.__radius = radius\n",
        "\n",
        "    def set_x(self, x):\n",
        "        self.__x = x\n",
        "\n",
        "    def set_y(self, y):\n",
        "        self.__y = y\n",
        "\n",
        "    def area(self):\n",
        "        return math.pi * self.__radius ** 2\n",
        "\n",
        "    def perimeter(self):\n",
        "        return 2 * math.pi * self.__radius"
      ]
    },
    {
      "cell_type": "code",
      "source": [
        "r = Rectangle(5, 10)\n",
        "print(\"Width:\", r.get_width())\n",
        "print(\"Height:\", r.get_height())\n",
        "print(\"Area:\", r.area())\n",
        "print(\"Perimeter:\", r.perimeter())\n",
        "\n",
        "c = Circle(5, 0, 0)\n",
        "print(\"Radius:\", c.get_radius())\n",
        "print(\"X-coordinate:\", c.get_x())\n",
        "print(\"Y-coordinate:\", c.get_y())\n",
        "print(\"Area:\", c.area())\n",
        "print(\"Perimeter:\", c.perimeter())"
      ],
      "metadata": {
        "colab": {
          "base_uri": "https://localhost:8080/"
        },
        "id": "44SH4KYa-9p1",
        "outputId": "42f6bd4b-35fa-48fb-933b-f229c2406e8f"
      },
      "execution_count": null,
      "outputs": [
        {
          "output_type": "stream",
          "name": "stdout",
          "text": [
            "Width: 5\n",
            "Height: 10\n",
            "Area: 50\n",
            "Perimeter: 30\n",
            "Radius: 5\n",
            "X-coordinate: 0\n",
            "Y-coordinate: 0\n",
            "Area: 78.53981633974483\n",
            "Perimeter: 31.41592653589793\n"
          ]
        }
      ]
    },
    {
      "cell_type": "markdown",
      "metadata": {
        "id": "Jw3rxsgT6AN7"
      },
      "source": [
        "6. Implement a triangle class analogous to the rectangle and circle in question 5."
      ]
    },
    {
      "cell_type": "code",
      "execution_count": null,
      "metadata": {
        "id": "9Y2IUDWz6AN7"
      },
      "outputs": [],
      "source": [
        "import math\n",
        "\n",
        "class Triangle(Shape):\n",
        "    def __init__(self, base, height, side1, side2, side3):\n",
        "        self.__base = base\n",
        "        self.__height = height\n",
        "        self.__side1 = side1\n",
        "        self.__side2 = side2\n",
        "        self.__side3 = side3\n",
        "\n",
        "    def get_base(self):\n",
        "        return self.__base\n",
        "\n",
        "    def get_height(self):\n",
        "        return self.__height\n",
        "\n",
        "    def get_side1(self):\n",
        "        return self.__side1\n",
        "\n",
        "    def get_side2(self):\n",
        "        return self.__side2\n",
        "\n",
        "    def get_side3(self):\n",
        "        return self.__side3\n",
        "\n",
        "    def set_base(self, base):\n",
        "        self.__base = base\n",
        "\n",
        "    def set_height(self, height):\n",
        "        self.__height = height\n",
        "\n",
        "    def set_side1(self, side1):\n",
        "        self.__side1 = side1\n",
        "\n",
        "    def set_side2(self, side2):\n",
        "        self.__side2 = side2\n",
        "\n",
        "    def set_side3(self, side3):\n",
        "        self.__side3 = side3\n",
        "\n",
        "    def area(self):\n",
        "        return 0.5 * self.__base * self.__height\n",
        "\n",
        "    def perimeter(self):\n",
        "        return self.__side1 + self.__side2 + self.__side3"
      ]
    },
    {
      "cell_type": "code",
      "source": [
        "t = Triangle(6, 8, 7, 8, 9)\n",
        "print(\"Base:\", t.get_base())\n",
        "print(\"Height:\", t.get_height())\n",
        "print(\"Side 1:\", t.get_side1())\n",
        "print(\"Side 2:\", t.get_side2())\n",
        "print(\"Side 3:\", t.get_side3())\n",
        "print(\"Area:\", t.area())\n",
        "print(\"Perimeter:\", t.perimeter())"
      ],
      "metadata": {
        "colab": {
          "base_uri": "https://localhost:8080/"
        },
        "id": "d0e1T6EV_Nxx",
        "outputId": "3e7c8ee0-2a31-44a3-e226-abfa04e1d560"
      },
      "execution_count": null,
      "outputs": [
        {
          "output_type": "stream",
          "name": "stdout",
          "text": [
            "Base: 6\n",
            "Height: 8\n",
            "Side 1: 7\n",
            "Side 2: 8\n",
            "Side 3: 9\n",
            "Area: 24.0\n",
            "Perimeter: 24\n"
          ]
        }
      ]
    },
    {
      "cell_type": "markdown",
      "metadata": {
        "id": "UTxbjq4j6AN8"
      },
      "source": [
        "7. Add a function to the object classes, including the base, that returns a list of up to 16 pairs of  $x$ and $y$ points on the parameter of the object."
      ]
    },
    {
      "cell_type": "code",
      "execution_count": null,
      "metadata": {
        "id": "dYGtt3Cp6AN8"
      },
      "outputs": [],
      "source": [
        "class Point:\n",
        "    def __init__(self, x, y, width, height):\n",
        "        self.x = x\n",
        "        self.y = y\n",
        "        self.width = width\n",
        "        self.height = height\n",
        "\n",
        "    def inside_point(self, point_x, point_y):\n",
        "        if (self.x <= point_x <= self.x + self.width and\n",
        "            self.y <= point_y <= self.y + self.height):\n",
        "            return True\n",
        "        else:\n",
        "            return False"
      ]
    },
    {
      "cell_type": "code",
      "source": [
        "object_ = Point(10,20,30,40)\n",
        "print(object_.inside_point(15,20))\n",
        "print(object_.inside_point(100,100))"
      ],
      "metadata": {
        "colab": {
          "base_uri": "https://localhost:8080/"
        },
        "id": "WpcxjEmW_Wt-",
        "outputId": "8ef6b4b7-d46b-4437-c548-a42621535f00"
      },
      "execution_count": null,
      "outputs": [
        {
          "output_type": "stream",
          "name": "stdout",
          "text": [
            "True\n",
            "False\n"
          ]
        }
      ]
    },
    {
      "cell_type": "markdown",
      "metadata": {
        "id": "mhClnLb36AN8"
      },
      "source": [
        "8. Add a function to the object classes, including the base, that tests if a given set of $x$ and $y$ coordinates are inside of the object. You'll have to think through how to determine if a set of coordinates are inside an object for each object type."
      ]
    },
    {
      "cell_type": "code",
      "execution_count": null,
      "metadata": {
        "id": "AIfDJewb6AN9"
      },
      "outputs": [],
      "source": [
        "class Points:\n",
        "    def __init__(self, x, y):\n",
        "        self.x = x\n",
        "        self.y = y\n",
        "\n",
        "    def __str__(self):\n",
        "        return (self.x, self.y)\n",
        "\n",
        "def Parameter_Function():\n",
        "    pairs = []\n",
        "    for x in range(17):\n",
        "        for y in range(17):\n",
        "            if x == y:\n",
        "                point = Points(x,y)\n",
        "                pairs.append(point)\n",
        "    return pairs\n"
      ]
    },
    {
      "cell_type": "code",
      "source": [
        "points = Parameter_Function()\n",
        "for point in points:\n",
        "    print(f\"({point.x},{point.y})\")"
      ],
      "metadata": {
        "colab": {
          "base_uri": "https://localhost:8080/"
        },
        "id": "wYTAsHsu_hRK",
        "outputId": "4e2525e5-7d38-4f9f-a4ec-1215d50ae778"
      },
      "execution_count": null,
      "outputs": [
        {
          "output_type": "stream",
          "name": "stdout",
          "text": [
            "(0,0)\n",
            "(1,1)\n",
            "(2,2)\n",
            "(3,3)\n",
            "(4,4)\n",
            "(5,5)\n",
            "(6,6)\n",
            "(7,7)\n",
            "(8,8)\n",
            "(9,9)\n",
            "(10,10)\n",
            "(11,11)\n",
            "(12,12)\n",
            "(13,13)\n",
            "(14,14)\n",
            "(15,15)\n",
            "(16,16)\n"
          ]
        }
      ]
    },
    {
      "cell_type": "markdown",
      "metadata": {
        "id": "lGIzhoL-6AN9"
      },
      "source": [
        "9. Add a function in the base class of the object classes that returns true/false testing that the object overlaps with another object."
      ]
    },
    {
      "cell_type": "code",
      "execution_count": null,
      "metadata": {
        "id": "T2eFOjhi6AN9"
      },
      "outputs": [],
      "source": [
        "class BaseObject:\n",
        "    def __init__(self, x, y, width, height):\n",
        "        self.x = x\n",
        "        self.y = y\n",
        "        self.width = width\n",
        "        self.height = height\n",
        "\n",
        "    def overlaps(self, other):\n",
        "        if (self.x + self.width < other.x or\n",
        "            other.x + other.width < self.x or\n",
        "            self.y + self.height < other.y or\n",
        "            other.y + other.height < self.y):\n",
        "            return False\n",
        "        else:\n",
        "            return True"
      ]
    },
    {
      "cell_type": "code",
      "source": [
        "obj1 = BaseObject(0, 0, 10, 10)\n",
        "obj2 = BaseObject(5, 5, 10, 10)\n",
        "if obj1.overlaps(obj2):\n",
        "    print('True')\n",
        "else:\n",
        "    print('False')"
      ],
      "metadata": {
        "colab": {
          "base_uri": "https://localhost:8080/"
        },
        "id": "i6ZwzGGl_lcw",
        "outputId": "85ce8bbc-bb90-458e-abdb-cc712775deae"
      },
      "execution_count": null,
      "outputs": [
        {
          "output_type": "stream",
          "name": "stdout",
          "text": [
            "True\n"
          ]
        }
      ]
    },
    {
      "cell_type": "markdown",
      "metadata": {
        "id": "bYwS3DP06AN-"
      },
      "source": [
        "10. Copy the `Canvas` class from lecture to in a python file creating a `paint` module. Copy your classes from above into the module and implement paint functions. Implement a `CompoundShape` class. Create a simple drawing demonstrating that all of your classes are working."
      ]
    },
    {
      "cell_type": "code",
      "execution_count": null,
      "metadata": {
        "id": "3gwGEXNs6AN-"
      },
      "outputs": [],
      "source": [
        "class Canvas:\n",
        "    def __init__(self, width, height):\n",
        "        self.width = width\n",
        "        self.height = height\n",
        "        self.data = [[' '] * width for i in range(height)]\n",
        "\n",
        "    def set_pixel(self, row, col, char='*'):\n",
        "        self.data[row][col] = char\n",
        "\n",
        "    def get_pixel(self, row, col):\n",
        "        return self.data[row][col]\n",
        "\n",
        "    def v_line(self, x, y, w, **kargs):\n",
        "        for i in range(x,x+w):\n",
        "            self.set_pixel(i,y, **kargs)\n",
        "\n",
        "    def h_line(self, x, y, h, **kargs):\n",
        "        for i in range(y,y+h):\n",
        "            self.set_pixel(x,i, **kargs)\n",
        "\n",
        "    def line(self, x1, y1, x2, y2, **kargs):\n",
        "        slope = (y2-y1) / (x2-x1)\n",
        "        for y in range(y1,y2):\n",
        "            x= int(slope * y)\n",
        "            self.set_pixel(x,y, **kargs)\n",
        "\n",
        "    def display(self):\n",
        "        print(\"\\n\".join([\"\".join(row) for row in self.data]))"
      ]
    },
    {
      "cell_type": "code",
      "source": [
        "class Shape:\n",
        "    def __init__(self, name=\"\", **kwargs):\n",
        "        self.name=name\n",
        "        self.kwargs=kwargs\n",
        "\n",
        "    def paint(self, canvas): pass\n",
        "\n",
        "class Rectangle(Shape):\n",
        "    def __init__(self, x, y, w, h, **kwargs):\n",
        "        Shape.__init__(self, **kwargs)\n",
        "        self.x = x\n",
        "        self.y = y\n",
        "        self.w = w\n",
        "        self.h = h\n",
        "\n",
        "    def paint(self, canvas):\n",
        "        canvas.v_line(self.x, self.y, self.w, **self.kwargs)\n",
        "        canvas.v_line(self.x, self.y + self.h, self.w, **self.kwargs)\n",
        "        canvas.h_line(self.x, self.y, self.h, **self.kwargs)\n",
        "        canvas.h_line(self.x + self.w, self.y, self.h, **self.kwargs)\n",
        "\n",
        "class Square(Rectangle):\n",
        "    def __init__(self, x, y, size, **kwargs):\n",
        "        Rectangle.__init__(self, x, y, size, size, **kwargs)\n",
        "\n",
        "class Line(Shape):\n",
        "    def __init__(self, x1, y1, x2, y2,  **kwargs):\n",
        "        Shape.__init__(self, **kwargs)\n",
        "        self.x1=x1\n",
        "        self.y1=y1\n",
        "        self.x2=x2\n",
        "        self.y2=y2\n",
        "\n",
        "    def paint(self, canvas):\n",
        "        canvas.line(self.x1,self.y1,self.x2,self.y2)\n",
        "\n",
        "class CompoundShape(Shape):\n",
        "    def __init__(self, shapes):\n",
        "        self.shapes = shapes\n",
        "\n",
        "    def paint(self, canvas):\n",
        "        for s in self.shapes:\n",
        "            s.paint(canvas)\n"
      ],
      "metadata": {
        "id": "3YXWNgBg_2UH"
      },
      "execution_count": null,
      "outputs": []
    },
    {
      "cell_type": "code",
      "source": [
        "canvas=Canvas(30,30)\n",
        "shape1=Rectangle(2,2,15,25,char=\":\")\n",
        "shape1.paint(canvas)\n",
        "shape2=Square(4,8,10,char='=')\n",
        "shape2.paint(canvas)\n",
        "canvas.h_line(10,3,25,char=\"2\")\n",
        "canvas.h_line(7,3,25,char=\"2\")\n",
        "canvas.line(4,4,35,25)\n",
        "canvas.v_line(2,4,16,char=\"22\")\n",
        "canvas.v_line(2,6,16,char=\"22\")\n",
        "canvas.v_line(2,27,16,char=\":$\")\n",
        "canvas.v_line(2,1,16,char=\"$\")\n",
        "canvas.display()"
      ],
      "metadata": {
        "colab": {
          "base_uri": "https://localhost:8080/"
        },
        "id": "BxQoEX1F_-2B",
        "outputId": "0a608e72-da09-4dcc-f329-5deb067f2f98"
      },
      "execution_count": null,
      "outputs": [
        {
          "output_type": "stream",
          "name": "stdout",
          "text": [
            "                              \n",
            "                              \n",
            " $::22:22:::::::::::::::::::::$  \n",
            " $: 22*22                    :$  \n",
            " $: 22 22*===========        :$  \n",
            " $: 22 22 *         =        :$  \n",
            " $: 22 22 =**       =        :$  \n",
            " $:2222222222*222222222222222:$  \n",
            " $: 22 22 =   **    =        :$  \n",
            " $: 22 22 =     *   =        :$  \n",
            " $:22222222222222**2222222222:$  \n",
            " $: 22 22 =        *=        :$  \n",
            " $: 22 22 =         **       :$  \n",
            " $: 22 22 =         = *      :$  \n",
            " $: 22 22 ==========   **    :$  \n",
            " $: 22 22                *   :$  \n",
            " $: 22 22                 *  :$  \n",
            " $::22:22:::::::::::::::::::::$  \n",
            "                              \n",
            "                              \n",
            "                              \n",
            "                              \n",
            "                              \n",
            "                              \n",
            "                              \n",
            "                              \n",
            "                              \n",
            "                              \n",
            "                              \n",
            "                              \n"
          ]
        }
      ]
    },
    {
      "cell_type": "code",
      "source": [
        "canvas=Canvas(10,10)\n",
        "canvas.v_line(4,4,1,char=\":\")\n",
        "canvas.v_line(4,7,1,char=\":\")\n",
        "canvas.v_line(6,3,2,char=\".\")\n",
        "canvas.v_line(7,4,1,char=\".\")\n",
        "canvas.v_line(7,7,1,char=\".\")\n",
        "canvas.v_line(6,8,2,char=\".\")\n",
        "canvas.h_line(8,4,4,char=\".\")\n",
        "canvas.display()"
      ],
      "metadata": {
        "colab": {
          "base_uri": "https://localhost:8080/"
        },
        "id": "LQsdzjd-ABJG",
        "outputId": "fb31d993-d19e-4d49-de6a-36169de6fb4d"
      },
      "execution_count": null,
      "outputs": [
        {
          "output_type": "stream",
          "name": "stdout",
          "text": [
            "          \n",
            "          \n",
            "          \n",
            "          \n",
            "    :  :  \n",
            "          \n",
            "   .    . \n",
            "   ..  .. \n",
            "    ....  \n",
            "          \n"
          ]
        }
      ]
    },
    {
      "cell_type": "markdown",
      "metadata": {
        "id": "ud_G9gMB6AN-"
      },
      "source": [
        "11. Create a `RasterDrawing` class. Demonstrate that you can create a drawing made of several shapes, paint the drawing, modify the drawing, and paint it again."
      ]
    },
    {
      "cell_type": "code",
      "execution_count": null,
      "metadata": {
        "id": "SKR1TAQu6AN-"
      },
      "outputs": [],
      "source": [
        "class RasterDrawing:\n",
        "    def __init__(self):\n",
        "        self.shapes=dict()\n",
        "        self.shape_names=list()\n",
        "\n",
        "    def add_shape(self,shape):\n",
        "        if shape.name == \"\":\n",
        "            shape.name = self.assign_name()\n",
        "\n",
        "        self.shapes[shape.name]=shape\n",
        "        self.shape_names.append(shape.name)\n",
        "\n",
        "    def paint(self,canvas):\n",
        "        for shape_name in self.shape_names:\n",
        "            self.shapes[shape_name].paint(canvas)\n",
        "\n",
        "    def assign_name(self):\n",
        "        name_base=\"shape\"\n",
        "        name = name_base+\"_0\"\n",
        "\n",
        "        i=1\n",
        "        while name in self.shapes:\n",
        "            name = name_base+\"_\"+str(i)\n",
        "\n",
        "        return name"
      ]
    },
    {
      "cell_type": "code",
      "source": [
        "c1=Canvas(50,40)\n",
        "rd=RasterDrawing()\n",
        "\n",
        "rd.add_shape(Square(2,2,30,char=\"#\"))\n",
        "rd.add_shape(Line(2,2,25,29))\n",
        "rd.paint(c1)\n",
        "\n",
        "c1.display()"
      ],
      "metadata": {
        "colab": {
          "base_uri": "https://localhost:8080/"
        },
        "id": "RmSVUFafANq5",
        "outputId": "a17b5c89-2772-48ba-933f-bee7a2df47bd"
      },
      "execution_count": null,
      "outputs": [
        {
          "output_type": "stream",
          "name": "stdout",
          "text": [
            "                                                  \n",
            "                                                  \n",
            "  *##############################                 \n",
            "  #*                            #                 \n",
            "  # *                           #                 \n",
            "  #  *                          #                 \n",
            "  #                             #                 \n",
            "  #   *                         #                 \n",
            "  #    *                        #                 \n",
            "  #     *                       #                 \n",
            "  #      *                      #                 \n",
            "  #       *                     #                 \n",
            "  #        *                    #                 \n",
            "  #                             #                 \n",
            "  #         *                   #                 \n",
            "  #          *                  #                 \n",
            "  #           *                 #                 \n",
            "  #            *                #                 \n",
            "  #             *               #                 \n",
            "  #              *              #                 \n",
            "  #                             #                 \n",
            "  #               *             #                 \n",
            "  #                *            #                 \n",
            "  #                 *           #                 \n",
            "  #                  *          #                 \n",
            "  #                   *         #                 \n",
            "  #                             #                 \n",
            "  #                    *        #                 \n",
            "  #                     *       #                 \n",
            "  #                      *      #                 \n",
            "  #                       *     #                 \n",
            "  #                        *    #                 \n",
            "  ##########################*###                  \n",
            "                                                  \n",
            "                                                  \n",
            "                                                  \n",
            "                                                  \n",
            "                                                  \n",
            "                                                  \n",
            "                                                  \n"
          ]
        }
      ]
    },
    {
      "cell_type": "markdown",
      "metadata": {
        "id": "c1beiG_S6AN-"
      },
      "source": [
        "12. Implement the ability to load/save raster drawings and demonstate that your method works. One way to implement this ability:\n",
        "\n",
        "   * Overload `__repr__` functions of all objects to return strings of the python code that would construct the object.\n",
        "   \n",
        "   * In the save method of raster drawing class, store the representations into the file.\n",
        "   * Write a loader function that reads the file and uses `eval` to instantiate the object.\n",
        "\n",
        "For example:"
      ]
    },
    {
      "cell_type": "code",
      "execution_count": null,
      "metadata": {
        "id": "ly_s8gD76AN_"
      },
      "outputs": [],
      "source": [
        "class foo:\n",
        "    def __init__(self,a,b=None):\n",
        "        self.a=a\n",
        "        self.b=b\n",
        "\n",
        "    def __repr__(self):\n",
        "        return \"foo(\"+repr(self.a)+\",\"+repr(self.b)+\")\"\n",
        "\n",
        "    def save(self,filename):\n",
        "        f=open(filename,\"w\")\n",
        "        f.write(self.__repr__())\n",
        "        f.close()\n",
        "\n",
        "\n",
        "def foo_loader(filename):\n",
        "    f=open(filename,\"r\")\n",
        "    tmp=eval(f.read())\n",
        "    f.close()\n",
        "    return tmp\n"
      ]
    },
    {
      "cell_type": "code",
      "execution_count": null,
      "metadata": {
        "id": "coBtFHnI6AOA",
        "outputId": "6cb62ed0-aed9-42d8-8d9c-27cac6d6c2dd"
      },
      "outputs": [
        {
          "name": "stdout",
          "output_type": "stream",
          "text": [
            "foo(1,'hello')\n"
          ]
        }
      ],
      "source": [
        "# Test\n",
        "print(repr(foo(1,\"hello\")))"
      ]
    },
    {
      "cell_type": "code",
      "execution_count": null,
      "metadata": {
        "id": "DmfzarxW6AOB"
      },
      "outputs": [],
      "source": [
        "# Create an object and save it\n",
        "ff=foo(1,\"hello\")\n",
        "ff.save(\"Test.foo\")"
      ]
    },
    {
      "cell_type": "code",
      "execution_count": null,
      "metadata": {
        "id": "gnSz8K3w6AOB",
        "outputId": "788f42e5-0077-4deb-bab5-693fbfc704f8"
      },
      "outputs": [
        {
          "name": "stdout",
          "output_type": "stream",
          "text": [
            "foo(1,'hello')"
          ]
        }
      ],
      "source": [
        "# Check contents of the saved file\n",
        "!cat Test.foo"
      ]
    },
    {
      "cell_type": "code",
      "execution_count": null,
      "metadata": {
        "id": "mR6FwT6V6AOC",
        "outputId": "6c9a0a20-aa19-494f-8260-8aa08db185d1"
      },
      "outputs": [
        {
          "data": {
            "text/plain": [
              "foo(1,'hello')"
            ]
          },
          "execution_count": 5,
          "metadata": {},
          "output_type": "execute_result"
        }
      ],
      "source": [
        "# Load the object\n",
        "ff_reloaded=foo_loader(\"Test.foo\")\n",
        "ff_reloaded"
      ]
    },
    {
      "cell_type": "code",
      "source": [
        "class RasterDrawing:\n",
        "    def __init__(self):\n",
        "        self.shapes=dict()\n",
        "        self.shape_names=list()\n",
        "\n",
        "    def add_shape(self,shape):\n",
        "        if shape.name == \"\":\n",
        "            shape.name = self.assign_name()\n",
        "\n",
        "        self.shapes[shape.name]=shape\n",
        "        self.shape_names.append(shape.name)\n",
        "\n",
        "    def paint(self,canvas):\n",
        "        for shape_name in self.shape_names:\n",
        "            self.shapes[shape_name].paint(canvas)\n",
        "\n",
        "    def assign_name(self):\n",
        "        name_base=\"shape\"\n",
        "        name = name_base+\"_0\"\n",
        "        i=1\n",
        "        while name in self.shapes:\n",
        "            name = name_base+\"_\"+str(i)\n",
        "        return name\n",
        "\n",
        "    def __repr__(self):\n",
        "        return f\"RasterDrawing('{self.shapes}')\"\n",
        "\n",
        "    def save(self,filename):\n",
        "        f=open(filename,\"w\")\n",
        "        f.write(self.__repr__())\n",
        "        f.close()\n",
        "\n",
        "def loader(filename):\n",
        "    f=open(filename,\"r\")\n",
        "    tmp=eval(f.read())\n",
        "    f.close()\n",
        "    return tmp"
      ],
      "metadata": {
        "id": "TufKmstRAYkC"
      },
      "execution_count": null,
      "outputs": []
    },
    {
      "cell_type": "code",
      "source": [
        "c1=Canvas(50,40)\n",
        "rd=RasterDrawing()\n",
        "rd.add_shape(Square(2,2,30,char=\"#\"))\n",
        "rd.add_shape(Line(2,2,25,29))\n",
        "rd.paint(c1)\n",
        "c1.display()\n",
        "rd.save(\"drawing.txt\")"
      ],
      "metadata": {
        "colab": {
          "base_uri": "https://localhost:8080/"
        },
        "id": "zs0Y78bOAdWf",
        "outputId": "9416859e-87c3-42c7-d6c6-887e87205f09"
      },
      "execution_count": null,
      "outputs": [
        {
          "output_type": "stream",
          "name": "stdout",
          "text": [
            "                                                  \n",
            "                                                  \n",
            "  *##############################                 \n",
            "  #*                            #                 \n",
            "  # *                           #                 \n",
            "  #  *                          #                 \n",
            "  #                             #                 \n",
            "  #   *                         #                 \n",
            "  #    *                        #                 \n",
            "  #     *                       #                 \n",
            "  #      *                      #                 \n",
            "  #       *                     #                 \n",
            "  #        *                    #                 \n",
            "  #                             #                 \n",
            "  #         *                   #                 \n",
            "  #          *                  #                 \n",
            "  #           *                 #                 \n",
            "  #            *                #                 \n",
            "  #             *               #                 \n",
            "  #              *              #                 \n",
            "  #                             #                 \n",
            "  #               *             #                 \n",
            "  #                *            #                 \n",
            "  #                 *           #                 \n",
            "  #                  *          #                 \n",
            "  #                   *         #                 \n",
            "  #                             #                 \n",
            "  #                    *        #                 \n",
            "  #                     *       #                 \n",
            "  #                      *      #                 \n",
            "  #                       *     #                 \n",
            "  #                        *    #                 \n",
            "  ##########################*###                  \n",
            "                                                  \n",
            "                                                  \n",
            "                                                  \n",
            "                                                  \n",
            "                                                  \n",
            "                                                  \n",
            "                                                  \n"
          ]
        }
      ]
    },
    {
      "cell_type": "code",
      "source": [
        "!cat drawing.txt"
      ],
      "metadata": {
        "colab": {
          "base_uri": "https://localhost:8080/"
        },
        "id": "jTaczE2uAg9w",
        "outputId": "9f6529f9-c701-439a-c7e5-b212876a29d0"
      },
      "execution_count": null,
      "outputs": [
        {
          "output_type": "stream",
          "name": "stdout",
          "text": [
            "RasterDrawing('{'shape_0': <__main__.Square object at 0x7ad523876150>, 'shape_1': <__main__.Line object at 0x7ad5238777d0>}')"
          ]
        }
      ]
    },
    {
      "cell_type": "code",
      "source": [
        "reloaded=loader(\"drawing.txt\")\n",
        "reloaded\n",
        "reloaded=loader(\"drawing.txt\")\n",
        "print(reloaded)"
      ],
      "metadata": {
        "colab": {
          "base_uri": "https://localhost:8080/",
          "height": 346
        },
        "id": "x_c9j86fAkD2",
        "outputId": "6dc85b1d-fc66-43d1-fb33-602a6d7fdd77"
      },
      "execution_count": null,
      "outputs": [
        {
          "output_type": "error",
          "ename": "SyntaxError",
          "evalue": "invalid syntax. Perhaps you forgot a comma? (<string>, line 1)",
          "traceback": [
            "Traceback \u001b[0;36m(most recent call last)\u001b[0m:\n",
            "  File \u001b[1;32m\"/usr/local/lib/python3.11/dist-packages/IPython/core/interactiveshell.py\"\u001b[0m, line \u001b[1;32m3553\u001b[0m, in \u001b[1;35mrun_code\u001b[0m\n    exec(code_obj, self.user_global_ns, self.user_ns)\n",
            "  File \u001b[1;32m\"<ipython-input-58-159163524663>\"\u001b[0m, line \u001b[1;32m1\u001b[0m, in \u001b[1;35m<cell line: 0>\u001b[0m\n    reloaded=loader(\"drawing.txt\")\n",
            "\u001b[0;36m  File \u001b[0;32m\"<ipython-input-54-ada3470d5a6b>\"\u001b[0;36m, line \u001b[0;32m35\u001b[0;36m, in \u001b[0;35mloader\u001b[0;36m\u001b[0m\n\u001b[0;31m    tmp=eval(f.read())\u001b[0m\n",
            "\u001b[0;36m  File \u001b[0;32m\"<string>\"\u001b[0;36m, line \u001b[0;32m1\u001b[0m\n\u001b[0;31m    RasterDrawing('{'shape_0': <__main__.Square object at 0x7ad523876150>, 'shape_1': <__main__.Line object at 0x7ad5238777d0>}')\u001b[0m\n\u001b[0m                  ^\u001b[0m\n\u001b[0;31mSyntaxError\u001b[0m\u001b[0;31m:\u001b[0m invalid syntax. Perhaps you forgot a comma?\n"
          ]
        }
      ]
    }
  ],
  "metadata": {
    "kernelspec": {
      "display_name": "Python 3 (ipykernel)",
      "language": "python",
      "name": "python3"
    },
    "language_info": {
      "codemirror_mode": {
        "name": "ipython",
        "version": 3
      },
      "file_extension": ".py",
      "mimetype": "text/x-python",
      "name": "python",
      "nbconvert_exporter": "python",
      "pygments_lexer": "ipython3",
      "version": "3.9.6"
    },
    "colab": {
      "provenance": []
    }
  },
  "nbformat": 4,
  "nbformat_minor": 0
}