{
  "cells": [
    {
      "cell_type": "markdown",
      "metadata": {
        "id": "yd5HxMvF16r4"
      },
      "source": [
        "# Lab 3\n",
        "\n",
        "In this lab we will become familiar with distributions, histograms, and functional programming. Do not use numpy or any other library for this lab.\n",
        "\n",
        "Before that, lets get setup homework submission and submit your previous lab.  \n",
        "\n",
        "## Working on the Command-line.\n",
        "\n",
        "It is important for you to learn to work on the command line and to be familiar with the Unix environment (e.g. Linux, Mac OS, or Windows Linux Subsystem). We'll go over working on the command-line in detail later in the course.\n",
        "\n",
        "You are required to submit your work in this course via GitHub. Today in class, you will setup everything on the command-line.\n",
        "\n",
        "### Command-line basics\n",
        "\n",
        "There is plenty of material online that will help you figure out how to do various tasks on the command line. Commands you may need to know today:\n",
        "\n",
        "* `ls`: lists the contents of the current directory.\n",
        "* `pwd`: prints the path of the current directory.\n",
        "* `cd <directory>`: changes your current directory to the specified directory.\n",
        "* `cd ..`: changes current directory to the previous directory. Basically steps out of the current directory to the directory containing the current directory.\n",
        "* `mkdir <directory>`: create a new directory with the specified name.\n",
        "* `rmdir <directory>`: removes the specified directory. Note it has to be empty.\n",
        "* `rm <filename>`: deletes the specified file.\n",
        "* `mv <filename 1> <filename 2>`: Moves or renames a file.\n",
        "* `cp <filename 1> <filename 2>`: copies an file. If you just provide a path to a directory, it copies the file into that directory with the same filename. If you specifiy a new filename, the copy has a new name. For example `cp File.1.txt File.2.txt` creates a copy of `File.1.txt` with the name `File.2.txt`. Meanwhile `cp File.1.txt my_directory`, where `my_directory` is a directory, creates a copy of `File.1.txt` in directory `my_directory` with the name `File.1.txt`.\n",
        "\n",
        "For reference, here are some example resources I found by googling:\n",
        "\n",
        "* Paths and Wildcards: https://www.warp.dev/terminus/linux-wildcards\n",
        "* Basic commands like copy: https://kb.iu.edu/d/afsk\n",
        "* General introduction to shell: https://github-pages.ucl.ac.uk/RCPSTrainingMaterials/HPCandHTCusingLegion/2_intro_to_shell.html\n",
        "* Manual pages: https://www.geeksforgeeks.org/linux-man-page-entries-different-types/?ref=ml_lbp\n",
        "* Chaining commands: https://www.geeksforgeeks.org/chaining-commands-in-linux/?ref=ml_lbp\n",
        "* Piping: https://www.geeksforgeeks.org/piping-in-unix-or-linux/\n",
        "* Using sed: https://www.geeksforgeeks.org/sed-command-linux-set-2/?ref=ml_lbp\n",
        "* Various Unix commands: https://www.geeksforgeeks.org/linux-commands/?ref=lbp\n",
        "* Cheat sheets:\n",
        "    * https://www.stationx.net/unix-commands-cheat-sheet/\n",
        "    * https://cheatography.com/davechild/cheat-sheets/linux-command-line/\n",
        "    * https://www.theknowledgeacademy.com/blog/unix-commands-cheat-sheet/\n",
        "    \n",
        "These aren't necessarily the best resources. Feel free to search for better ones. Also, don't forget that Unix has built-in manual pages for all of its commands. Just type `man <command>` at the command prompt. Use the space-bar to scroll through the documentation and \"q\" to exit.\n",
        "\n",
        "\n",
        "### Setup and Submission\n",
        "\n",
        "Our course repository is public. The instructions here aim to have you setup a fork of the course repository. Unfortunately because you are forking a public repo, your fork will have to be public also.\n",
        "\n",
        "You should be familiar with git from the first semester of this course. I assume that you all have github accounts and have setup things to be able to [push to github using ssh](https://docs.github.com/en/github/authenticating-to-github/connecting-to-github-with-ssh). The instuctions here lead you to:\n",
        "\n",
        "We'll overview what you will do before going through step by step instructions.\n",
        "\n",
        "1. Setup:\n",
        "    1. Fork the class repository. Some directions in [fork-a-repo](https://docs.github.com/en/github/getting-started-with-github/fork-a-repo).\n",
        "    1. Create a directory on your personal system where you will keep all course materials.\n",
        "    1. In that directory, clone your fork of the repository.\n",
        "    1. Using `git remote`, set the upstream to be the class repo, so you can pull from the class and push to your fork.\n",
        "\n",
        "1. Submission:\n",
        "    1. Copy your solutions into the appropriate directory (e.g. into `Labs/Lab.2/`) and with appropriate filename `Lab.2.solution.ipynb'.\n",
        "    1. Commit / push your solutions.\n",
        "\n",
        "Below are step by step instructions with examples (including example directory naming convention). Feel free to modify things as you see fit.\n",
        "\n",
        "#### Setup\n",
        "You should only need to follow this instructions once. Here are some useful git commands:\n",
        "\n",
        "* Git help: `git help`\n",
        "* Git remote help: `git help remote`\n",
        "* Check remote status: `git remote -v`\n",
        "* Add a remote: `git remote add <stream name> <repo URL>`\n",
        "* Add a remove: `git remote remove <stream name>`\n",
        "\n",
        "Steps:\n",
        "1. In a browser, log into GitHub and navigate to the [course repository](https://github.com/UTA-DataScience/DATA3402.Spring.2025).\n",
        "1. On the top right of the page, press the fork button to create a new fork into your own GitHub account.\n",
        "1. After successful fork, you should find the browser showing your fork of the course repository. Use the green \"Code\" button to copy path to the repo into your the clipboard of your computer.\n",
        "1. Open a shell on your personal computer.\n",
        "1. If you have not done so already, create a new directory/folder where you will keep all course material to navigate to it. For example: `mkdir Data-3402` and `cd Data-3402`.\n",
        "1. Clone your fork of the repository using `git clone` followed by the path you copied into your clipboard. (copy/paste)\n",
        "1. Paste the URL to your fork in the worksheet for the TAs and instructors.\n",
        "1. Now go into the directory of your clone (`cd DATA3402.Spring.2025`).\n",
        "1. Type `git remote -v` to see the current setup for fetch and pull.\n",
        "1. Note the URL you see. This should be the same as what you used for your clone for both push and fetch.\n",
        "1. Delete the origin remote using `git remote remove origin`.\n",
        "1. Add the course repo as your remote using `git remote add origin https://github.com/UTA-DataScience/DATA3402.Spring.2025.git`.\n",
        "1. Change the push to point to your fork. This means you will need the URL to your clone we copied earlier and confirmed as the original origin. The command will look something like: `git remote set-url --push origin  https://github.com/XXXXXX/DATA3402.Spring.2025.git`, where XXXXX is your username on GitHub.\n",
        "1. Note that if you setup everything correctly, you now should be able to do `git pull` to get updates from the course repo, and do `git push` to push your commits into your own fork.\n",
        "\n",
        "### Submission\n",
        "These instructions outline how you submit files. Some useful commands:\n",
        "* To add a file to local repository: `git add <file>`.\n",
        "* To commit all changed files into local repository: `git -a -m \"A message\"`. You need to provide some comment when you commit.\n",
        "* To push the commited files from the local repository to GitHub: `git push`.\n",
        "* To get updates from GitHub: `git pull`.\n",
        "\n",
        "Steps:\n",
        "1. To submit your labs, navigate to your clone of your fork of the course repository.\n",
        "1. Use `git pull` to make sure you have the latest updates.\n",
        "1. Make sure your copy of the lab your are working on is in the appropriate place in this clone. That means if you have the file elsewhere, copy it to the same directory in your clone of your fork.\n",
        "1. Note that in order to avoid future conflicts, you should always name your solution differently than the original file in the class repo. For example if your file is still named `Lab.2.ipynb` you should rename it using the `mv` command: `mv Lab.2.ipynb Lab.2.solution.ipynb`.\n",
        "1. Add and files you wish to submit into the repo. For example: `git add Labs/Lab.2/Lab.2.solution.ipynb`\n",
        "1. Commit any changes: `git commit -a -m \"Lab 2 updates\"`\n",
        "1. Push your changes: `git push`\n",
        "1. Check on github website that your solutions have been properly submitted.\n",
        "\n",
        "Before you leave the session today, make sure your GitHub Repo is setup. If you need to work further on your lab, navigate jupyter to the copy of the lab you just submitted and work there. Once done, repeat the commit and push commands to submit your updated solution. Note that lab 2 is due by midnight Friay 1/31/2025.\n"
      ]
    },
    {
      "cell_type": "markdown",
      "metadata": {
        "id": "cI06rn-s16r-"
      },
      "source": [
        "### Uniform Distribution\n",
        "Lets start with generating some fake random data. You can get a random number between 0 and 1 using the python random module as follow:"
      ]
    },
    {
      "cell_type": "code",
      "execution_count": 2,
      "metadata": {
        "colab": {
          "base_uri": "https://localhost:8080/"
        },
        "id": "Cr593hq516r_",
        "outputId": "547799e8-426d-4d2e-c606-2e47c620b6f8"
      },
      "outputs": [
        {
          "output_type": "stream",
          "name": "stdout",
          "text": [
            "The Value of x is 0.2738620815836682\n"
          ]
        }
      ],
      "source": [
        "import random\n",
        "x=random.random()\n",
        "print(\"The Value of x is\", x)"
      ]
    },
    {
      "cell_type": "markdown",
      "metadata": {
        "id": "o1Fv7Z8a16sB"
      },
      "source": [
        "Everytime you call random, you will get a new number.\n",
        "\n",
        "*Exercise 1:* Using random, write a function `generate_uniform(N, mymin, mymax)`, that returns a python list containing N random numbers between specified minimum and maximum value. Note that you may want to quickly work out on paper how to turn numbers between 0 and 1 to between other values."
      ]
    },
    {
      "cell_type": "code",
      "execution_count": 10,
      "metadata": {
        "id": "F6pGha_a16sB"
      },
      "outputs": [],
      "source": [
        "# Skeleton\n",
        "def generate_uniform(N,x_min,x_max):\n",
        "    out = []\n",
        "    ### BEGIN SOLUTION\n",
        "    for i in range(N):\n",
        "    # Fill in your solution here\n",
        "      random_number = random.uniform(0,1)\n",
        "      out.append(random_number * (x_max - x_min) + x_min)\n",
        "    ### END SOLUTION\n",
        "    return out"
      ]
    },
    {
      "cell_type": "code",
      "execution_count": 11,
      "metadata": {
        "colab": {
          "base_uri": "https://localhost:8080/"
        },
        "id": "Iknk9he116sC",
        "outputId": "533f4cf1-c1a7-4033-c0ef-a622b07163a5"
      },
      "outputs": [
        {
          "output_type": "stream",
          "name": "stdout",
          "text": [
            "Data Type: <class 'list'>\n",
            "Data Length: 1000\n",
            "Type of Data Contents: <class 'float'>\n",
            "Data Minimum: -9.988887347135469\n",
            "Data Maximum: 9.994898845208379\n"
          ]
        }
      ],
      "source": [
        "# Test your solution here\n",
        "data=generate_uniform(1000,-10,10)\n",
        "print (\"Data Type:\", type(data))\n",
        "print (\"Data Length:\", len(data))\n",
        "if len(data)>0:\n",
        "    print (\"Type of Data Contents:\", type(data[0]))\n",
        "    print (\"Data Minimum:\", min(data))\n",
        "    print (\"Data Maximum:\", max(data))"
      ]
    },
    {
      "cell_type": "markdown",
      "metadata": {
        "id": "uUf2BvMY16sC"
      },
      "source": [
        "*Exercise 2a:*\n",
        "Write a function that computes the mean of values in a list. Recall the equation for the mean of a random variable $\\bf{x}$ computed on a data set of $n$ values $\\{ x_i \\} = \\{x_1, x_2, ..., x_n\\}$  is ${\\bf\\bar{x}} = \\frac{1}{n} \\sum_i^n x_i$."
      ]
    },
    {
      "cell_type": "code",
      "execution_count": 14,
      "metadata": {
        "id": "hwwVZgJm16sD"
      },
      "outputs": [],
      "source": [
        "# Skeleton\n",
        "def mean(Data):\n",
        "    m=0.\n",
        "    ### BEGIN SOLUTION\n",
        "    # Fill in your solution here\n",
        "    total = sum(data)\n",
        "    count = len(data)\n",
        "    m = total/count\n",
        "    ### END SOLUTION\n",
        "    return m"
      ]
    },
    {
      "cell_type": "code",
      "execution_count": 15,
      "metadata": {
        "colab": {
          "base_uri": "https://localhost:8080/"
        },
        "id": "QRUAX4AQ16sD",
        "outputId": "3b2031b1-8265-4da5-864a-8cefe104735c"
      },
      "outputs": [
        {
          "output_type": "stream",
          "name": "stdout",
          "text": [
            "Mean of Data: -0.0012228100170691087\n"
          ]
        }
      ],
      "source": [
        "# Test your solution here\n",
        "print (\"Mean of Data:\", mean(data))"
      ]
    },
    {
      "cell_type": "markdown",
      "metadata": {
        "id": "5Pc1Cq6f16sE"
      },
      "source": [
        "*Exercise 2b:*\n",
        "Write a function that computes the variance of values in a list. Recall the equation for the variance of a random variable $\\bf{x}$ computed on a data set of $n$ values $\\{ x_i \\} = \\{x_1, x_2, ..., x_n\\}$  is ${\\bf\\langle x \\rangle} = \\frac{1}{n-1} \\sum_i^n (x_i - {\\bf\\bar{x}})^2$."
      ]
    },
    {
      "cell_type": "code",
      "execution_count": 16,
      "metadata": {
        "id": "2xgk0tiV16sE"
      },
      "outputs": [],
      "source": [
        "# Skeleton\n",
        "def variance(Data):\n",
        "    m=0.\n",
        "    ### BEGIN SOLUTION\n",
        "    if not Data:\n",
        "        raise ValueError(\"variance unavailable by empty data\")\n",
        "    n = len(Data)\n",
        "    if n < 2:\n",
        "        raise ValueError(\"need at least 2 points for variance\")\n",
        "    # Fill in your solution here\n",
        "    mean_value = mean(Data)\n",
        "    squared_diff = [(x - mean_value) ** 2 for x in Data]\n",
        "    m = sum(squared_diff) / (n - 1)\n",
        "    ### END SOLUTION\n",
        "    return m"
      ]
    },
    {
      "cell_type": "code",
      "execution_count": 17,
      "metadata": {
        "colab": {
          "base_uri": "https://localhost:8080/"
        },
        "id": "-P2Obta_16sF",
        "outputId": "45d3f3f5-e641-4400-a2ba-c4aa4935f38b"
      },
      "outputs": [
        {
          "output_type": "stream",
          "name": "stdout",
          "text": [
            "Variance of Data: 35.07182145511387\n"
          ]
        }
      ],
      "source": [
        "# Test your solution here\n",
        "print (\"Variance of Data:\", variance(data))"
      ]
    },
    {
      "cell_type": "markdown",
      "metadata": {
        "id": "mo-njDvF16sF"
      },
      "source": [
        "## Histogramming"
      ]
    },
    {
      "cell_type": "markdown",
      "metadata": {
        "id": "zZc25Ls816sF"
      },
      "source": [
        "*Exercise 3:* Write a function that bins the data so that you can create a histogram. An example of how to implement histogramming is the following logic:\n",
        "\n",
        "* User inputs a list of values `x` and optionally `n_bins` which defaults to 10.\n",
        "* If not supplied, find the minimum and maximum (`x_min`,`x_max`) of the values in x.\n",
        "* Determine the bin size (`bin_size`) by dividing the range of the function by the number of bins.\n",
        "* Create an empty list of zeros of size `n_bins`, call it `hist`.\n",
        "* Loop over the values in `x`\n",
        "    * Loop over the values in `hist` with index `i`:\n",
        "        * If x is between `x_min+i*bin_size` and `x_min+(i+1)*bin_size`, increment `hist[i].`\n",
        "        * For efficiency, try to use continue to goto the next bin and data point.\n",
        "* Return `hist` and the list corresponding of the bin edges (i.e. of `x_min+i*bin_size`).    "
      ]
    },
    {
      "cell_type": "code",
      "execution_count": 20,
      "metadata": {
        "id": "7wfxlKUf16sF"
      },
      "outputs": [],
      "source": [
        "# Solution\n",
        "def histogram(x,n_bins=10,x_min=None,x_max=None):\n",
        "    ### BEGIN SOLUTION\n",
        "    if x_min is None:\n",
        "        x_min = min(x)\n",
        "    if x_max is None:\n",
        "        x_max = max(x)\n",
        "    # Fill in your solution here\n",
        "    bin_size = (x_max - x_min) / n_bins\n",
        "    hist = [0] * n_bins\n",
        "    bin_edges = [x_min + i * bin_size for i in range(n_bins + 1)]\n",
        "\n",
        "    for value in x:\n",
        "        for i in range(n_bins):\n",
        "            if bin_edges[i] <= value < bin_edges[i + 1]:\n",
        "                hist[i] += 1\n",
        "                break\n",
        "            elif value == x_max:\n",
        "                hist[n_bins - 1] += 1\n",
        "    ### END SOLUTION\n",
        "    return hist,bin_edges"
      ]
    },
    {
      "cell_type": "code",
      "execution_count": 21,
      "metadata": {
        "colab": {
          "base_uri": "https://localhost:8080/"
        },
        "id": "Xpyfl6M116sG",
        "outputId": "b455c46b-6dd0-4b83-d19c-a5d10b8cca44"
      },
      "outputs": [
        {
          "output_type": "stream",
          "name": "stdout",
          "text": [
            "[8, 14, 13, 11, 13, 13, 11, 5, 10, 12, 12, 11, 9, 10, 9, 13, 10, 11, 9, 8, 12, 8, 15, 11, 6, 12, 7, 5, 6, 13, 9, 11, 10, 10, 10, 14, 12, 11, 11, 9, 7, 5, 8, 7, 9, 13, 9, 9, 9, 6, 9, 13, 4, 8, 10, 10, 14, 12, 8, 8, 10, 8, 12, 6, 10, 9, 8, 8, 10, 7, 14, 8, 8, 15, 11, 14, 14, 10, 10, 7, 13, 7, 13, 7, 9, 8, 14, 10, 13, 11, 5, 12, 14, 13, 5, 14, 12, 6, 10, 112]\n"
          ]
        }
      ],
      "source": [
        "# Test your solution here\n",
        "h,b=histogram(data,100)\n",
        "print(h)"
      ]
    },
    {
      "cell_type": "markdown",
      "metadata": {
        "id": "tsULWdQB16sG"
      },
      "source": [
        "*Exercise 4:* Write a function that uses the histogram function in the previous exercise to create a text-based \"graph\". For example the output could look like the following:\n",
        "```\n",
        "[  0,  1] : ######\n",
        "[  1,  2] : #####\n",
        "[  2,  3] : ######\n",
        "[  3,  4] : ####\n",
        "[  4,  5] : ####\n",
        "[  5,  6] : ######\n",
        "[  6,  7] : #####\n",
        "[  7,  8] : ######\n",
        "[  8,  9] : ####\n",
        "[  9, 10] : #####\n",
        "```\n",
        "\n",
        "Where each line corresponds to a bin and the number of `#`'s are proportional to the value of the data in the bin."
      ]
    },
    {
      "cell_type": "code",
      "execution_count": 31,
      "metadata": {
        "id": "texkJnJA16sG"
      },
      "outputs": [],
      "source": [
        "# Solution\n",
        "def draw_histogram(x,n_bins,x_min=None,x_max=None,character=\"#\",max_character_per_line=20):\n",
        "    ### BEGIN SOLUTION\n",
        "    hist, bin_edges = histogram(x, n_bins, x_min, x_max)\n",
        "    max_count = max(hist)\n",
        "    # Fill in your solution here\n",
        "    for i in range(n_bins):\n",
        "        bin_range = f\"[{bin_edges[i]:1f}, {bin_edges[i+1]:1f}]\"\n",
        "        num_characters = int((hist[i] / max_count) * max_character_per_line)\n",
        "        bar = character * num_characters\n",
        "    ### END SOLUTION\n",
        "        print(f\"{bin_range:10s} : {bar}\")"
      ]
    },
    {
      "cell_type": "code",
      "execution_count": 34,
      "metadata": {
        "colab": {
          "base_uri": "https://localhost:8080/"
        },
        "id": "li1mfA4716sH",
        "outputId": "9c962bfc-68b9-42c6-e0f0-68c564e6390c"
      },
      "outputs": [
        {
          "output_type": "stream",
          "name": "stdout",
          "text": [
            "[-9.988887, -8.989698] : ###############\n",
            "[-8.989698, -7.990509] : #############\n",
            "[-7.990509, -6.991319] : #############\n",
            "[-6.991319, -5.992130] : #############\n",
            "[-5.992130, -4.992941] : ##############\n",
            "[-4.992941, -3.993751] : ###########\n",
            "[-3.993751, -2.994562] : #############\n",
            "[-2.994562, -1.995373] : ###############\n",
            "[-1.995373, -0.996184] : #########\n",
            "[-0.996184, 0.003006] : ############\n",
            "[0.003006, 1.002195] : ###########\n",
            "[1.002195, 2.001384] : ##############\n",
            "[2.001384, 3.000574] : ############\n",
            "[3.000574, 3.999763] : ###########\n",
            "[3.999763, 4.998952] : ###############\n",
            "[4.998952, 5.998142] : ##############\n",
            "[5.998142, 6.997331] : #############\n",
            "[6.997331, 7.996520] : ###############\n",
            "[7.996520, 8.995710] : #############\n",
            "[8.995710, 9.994899] : ####################\n"
          ]
        }
      ],
      "source": [
        "# Test your solution here\n",
        "draw_histogram(data,20)"
      ]
    },
    {
      "cell_type": "markdown",
      "metadata": {
        "id": "je9mAQqM16sH"
      },
      "source": [
        "## Functional Programming\n",
        "\n",
        "*Exercise 5:* Write a function the applies a booling function (that returns true/false) to every element in data, and return a list of indices of elements where the result was true. Use this function to find the indices of entries greater than 0.5."
      ]
    },
    {
      "cell_type": "code",
      "execution_count": 35,
      "metadata": {
        "id": "Qb-p8nMe16sH"
      },
      "outputs": [],
      "source": [
        "def where(mylist,myfunc):\n",
        "    out= []\n",
        "    ### BEGIN SOLUTION\n",
        "    # Fill in your solution here\n",
        "    for i in range(len(mylist)):\n",
        "        if myfunc(mylist[i]):\n",
        "            out.append(i)\n",
        "    ### END SOLUTION\n",
        "    return out"
      ]
    },
    {
      "cell_type": "code",
      "execution_count": 38,
      "metadata": {
        "colab": {
          "base_uri": "https://localhost:8080/"
        },
        "id": "JDFnGvm616sH",
        "outputId": "5f0bc269-7b25-4fcd-f068-7fc64df6dc94"
      },
      "outputs": [
        {
          "output_type": "stream",
          "name": "stdout",
          "text": [
            "[1, 3, 4]\n"
          ]
        }
      ],
      "source": [
        "# Test your solution here\n",
        "list = [0.5, 0.9, 0.3, 0.8, 0.7]\n",
        "print(where(list, lambda x: x > 0.5))"
      ]
    },
    {
      "cell_type": "markdown",
      "metadata": {
        "id": "eF3s8VV916sH"
      },
      "source": [
        "*Exercise 6:* The `inrange(mymin,mymax)` function below returns a function that tests if it's input is between the specified values. Write corresponding functions that test:\n",
        "* Even\n",
        "* Odd\n",
        "* Greater than\n",
        "* Less than\n",
        "* Equal\n",
        "* Divisible by"
      ]
    },
    {
      "cell_type": "code",
      "execution_count": 40,
      "metadata": {
        "colab": {
          "base_uri": "https://localhost:8080/"
        },
        "id": "PAmdSkcO16sI",
        "outputId": "12413751-fc56-4e5c-8cd7-8a19a089304a"
      },
      "outputs": [
        {
          "output_type": "stream",
          "name": "stdout",
          "text": [
            "True True False False False\n",
            "False False True True False\n",
            "Number of Entries passing F1: 504\n",
            "Number of Entries passing F2: 0\n"
          ]
        }
      ],
      "source": [
        "def in_range(mymin,mymax):\n",
        "    def testrange(x):\n",
        "        return x<mymax and x>=mymin\n",
        "    return testrange\n",
        "\n",
        "# Examples:\n",
        "F1=in_range(0,10)\n",
        "F2=in_range(10,20)\n",
        "\n",
        "# Test of in_range\n",
        "print (F1(0), F1(1), F1(10), F1(15), F1(20))\n",
        "print (F2(0), F2(1), F2(10), F2(15), F2(20))\n",
        "\n",
        "print (\"Number of Entries passing F1:\", len(where(data,F1)))\n",
        "print (\"Number of Entries passing F2:\", len(where(data,F2)))"
      ]
    },
    {
      "cell_type": "code",
      "execution_count": 41,
      "metadata": {
        "id": "QNHWiq7h16sI"
      },
      "outputs": [],
      "source": [
        "### BEGIN SOLUTION\n",
        "# Fill in your solution here\n",
        "def even(num):\n",
        "    return num % 2 == 0\n",
        "\n",
        "def odd(num):\n",
        "    return num % 2 != 0\n",
        "\n",
        "def greater_than(n):\n",
        "    def test(num):\n",
        "        return num > n\n",
        "    return test\n",
        "\n",
        "def less_than(n):\n",
        "    def test(num):\n",
        "        return num < n\n",
        "    return test\n",
        "\n",
        "def equal(n):\n",
        "    def test(num):\n",
        "        return num == n\n",
        "    return test\n",
        "\n",
        "def divisible_by(n):\n",
        "    def test(num):\n",
        "        return num % n == 0\n",
        "    return test\n",
        "### END SOLUTION\n"
      ]
    },
    {
      "cell_type": "code",
      "execution_count": 42,
      "metadata": {
        "colab": {
          "base_uri": "https://localhost:8080/"
        },
        "id": "GOZILC7M16sI",
        "outputId": "11854af9-56cd-4c48-8cfc-ec8a74fc277e"
      },
      "outputs": [
        {
          "output_type": "stream",
          "name": "stdout",
          "text": [
            "True\n",
            "True\n",
            "True\n",
            "True\n",
            "True\n",
            "False\n"
          ]
        }
      ],
      "source": [
        "# Test your solution\n",
        "test_range = in_range(0, 10)\n",
        "print(even(6))\n",
        "print(odd(7))\n",
        "print(greater_than(10)(15))\n",
        "print(less_than(5)(3))\n",
        "print(equal(5)(5))\n",
        "print(divisible_by(3)(10))"
      ]
    },
    {
      "cell_type": "markdown",
      "metadata": {
        "id": "buzGESjS16sI"
      },
      "source": [
        "*Exercise 7:* Repeat the previous exercise using `lambda` and the built-in python functions sum and map instead of your solution above."
      ]
    },
    {
      "cell_type": "code",
      "execution_count": 44,
      "metadata": {
        "id": "voToEWuk16sJ"
      },
      "outputs": [],
      "source": [
        "### BEGIN SOLUTION\n",
        "def in_range(mymin, mymax):\n",
        "  return lambda num: mymin <= num <= mymax\n",
        "# Fill in your solution here\n",
        "even = lambda num: num % 2 == 0\n",
        "odd = lambda num: num % 2 != 0\n",
        "greater_than = lambda n: lambda num: num > n\n",
        "less_than = lambda n: lambda num: num < n\n",
        "equal = lambda n: lambda num: num == n\n",
        "divisible_by = lambda n: lambda num: num % n == 0\n",
        "\n",
        "### END SOLUTION"
      ]
    },
    {
      "cell_type": "code",
      "source": [
        "test_range = in_range(0, 10)\n",
        "print(even(6))\n",
        "print(odd(7))\n",
        "print(greater_than(10)(15))\n",
        "print(less_than(5)(3))\n",
        "print(equal(5)(5))\n",
        "print(divisible_by(3)(10))"
      ],
      "metadata": {
        "colab": {
          "base_uri": "https://localhost:8080/"
        },
        "id": "9xDKI85CGezv",
        "outputId": "2a765289-400f-4bc7-edf1-238fc14a3cea"
      },
      "execution_count": 45,
      "outputs": [
        {
          "output_type": "stream",
          "name": "stdout",
          "text": [
            "True\n",
            "True\n",
            "True\n",
            "True\n",
            "True\n",
            "False\n"
          ]
        }
      ]
    },
    {
      "cell_type": "markdown",
      "metadata": {
        "id": "zrpwRpZh16sJ"
      },
      "source": [
        "## Monte Carlo\n",
        "\n",
        "*Exercise 7:* Write a \"generator\" function called `generate_function(func,x_min,x_max,N)`, that instead of generating a flat distribution, generates a distribution with functional form coded in `func`. Note that `func` will always be > 0.  \n",
        "\n",
        "Use the test function below and your histogramming functions above to demonstrate that your generator is working properly.\n",
        "\n",
        "Hint: A simple, but slow, solution is to a draw random number `test_x` within the specified range and another number `p` between the `min` and `max` of the function (which you will have to determine). If `p<=function(test_x)`, then place `test_x` on the output. If not, repeat the process, drawing two new numbers. Repeat until you have the specified number of generated numbers, `N`. For this problem, it's OK to determine the `min` and `max` by numerically sampling the function.  "
      ]
    },
    {
      "cell_type": "code",
      "execution_count": 52,
      "metadata": {
        "id": "m2QnWci716sJ"
      },
      "outputs": [],
      "source": [
        "def generate_function(func,x_min,x_max,N=1000):\n",
        "\n",
        "    ### BEGIN SOLUTION\n",
        "    f_min, f_max = None, None\n",
        "    for i in range(N):\n",
        "        x = random.uniform(x_min, x_max)\n",
        "        f = func(x)\n",
        "        if f_min is None or f < f_min:\n",
        "            f_min = f\n",
        "        if f_max is None or f > f_max:\n",
        "            f_max = f\n",
        "    out = []\n",
        "    while len(out) < N:\n",
        "        x = random.uniform(x_min, x_max)\n",
        "        y = random.uniform(f_min, f_max)\n",
        "        if y <= func(x):\n",
        "            out.append(x)\n",
        "    ### END SOLUTION\n",
        "    return out"
      ]
    },
    {
      "cell_type": "code",
      "execution_count": 54,
      "metadata": {
        "colab": {
          "base_uri": "https://localhost:8080/",
          "height": 430
        },
        "id": "WYAlwwIj16sJ",
        "outputId": "19577d05-4f67-414c-fd8a-36b12a2c2e7b"
      },
      "outputs": [
        {
          "output_type": "display_data",
          "data": {
            "text/plain": [
              "<Figure size 640x480 with 1 Axes>"
            ],
            "image/png": "[encoded data removed]"
          },
          "metadata": {}
        }
      ],
      "source": [
        "# A test function\n",
        "def test_func(x,a=1,b=1):\n",
        "    return abs(a*x+b)\n",
        "import matplotlib.pyplot as plt\n",
        "samples = generate_function(test_func, -0, 10, 1000)\n",
        "plt.hist(samples, bins=10)\n",
        "plt.show()"
      ]
    },
    {
      "cell_type": "markdown",
      "metadata": {
        "id": "RNUoXYSr16sK"
      },
      "source": [
        "*Exercise 8:* Use your function to generate 1000 numbers that are normal distributed, using the `gaussian` function below. Confirm the mean and variance of the data is close to the mean and variance you specify when building the Gaussian. Histogram the data."
      ]
    },
    {
      "cell_type": "code",
      "execution_count": 55,
      "metadata": {
        "colab": {
          "base_uri": "https://localhost:8080/",
          "height": 430
        },
        "id": "1Jtl5B6z16sK",
        "outputId": "165b0165-ac51-4288-858c-d7be9fe09a62"
      },
      "outputs": [
        {
          "output_type": "display_data",
          "data": {
            "text/plain": [
              "<Figure size 640x480 with 1 Axes>"
            ],
            "image/png": "[encoded data removed]"
          },
          "metadata": {}
        }
      ],
      "source": [
        "import math\n",
        "\n",
        "def gaussian(mean, sigma):\n",
        "    def f(x):\n",
        "        return math.exp(-((x-mean)**2)/(2*sigma**2))/math.sqrt(math.pi*sigma)\n",
        "    return f\n",
        "\n",
        "# Example Instantiation\n",
        "g1=gaussian(0,1)\n",
        "g2=gaussian(10,3)\n",
        "\n",
        "samples = generate_function(g1, -10, 10, 1000)\n",
        "plt.hist(samples, bins=100)\n",
        "plt.show()"
      ]
    },
    {
      "cell_type": "code",
      "source": [
        "samples = generate_function(g2, -100, 100, 1000)\n",
        "plt.hist(samples, bins=100)\n",
        "plt.show()"
      ],
      "metadata": {
        "colab": {
          "base_uri": "https://localhost:8080/",
          "height": 430
        },
        "id": "3jc-l3i4H4dQ",
        "outputId": "4650ed5e-1a2c-4d6a-806f-1edacabeed53"
      },
      "execution_count": 56,
      "outputs": [
        {
          "output_type": "display_data",
          "data": {
            "text/plain": [
              "<Figure size 640x480 with 1 Axes>"
            ],
            "image/png": "[encoded data removed]"
          },
          "metadata": {}
        }
      ]
    },
    {
      "cell_type": "markdown",
      "metadata": {
        "id": "ngIzQZUH16sK"
      },
      "source": [
        "*Exercise 9:* Combine your `generate_function`, `where`, and `in_range` functions above to create an integrate function. Use your integrate function to show that approximately 68% of Normal distribution is within one variance."
      ]
    },
    {
      "cell_type": "code",
      "execution_count": 57,
      "metadata": {
        "id": "Ho_CqTav16sK"
      },
      "outputs": [],
      "source": [
        "def integrate(func, x_min, x_max, n_points=1000):\n",
        "    out = []\n",
        "    while len(out) < N:\n",
        "        x = random.uniform(x_min, x_max)\n",
        "        y = random.uniform(0, func(x_max))\n",
        "        if y <= func(x):\n",
        "            out.append(x)\n",
        "    return out\n",
        "\n",
        "def where(mylist,myfunc):\n",
        "    out= []\n",
        "    for i in range(len(mylist)):\n",
        "        if myfunc(mylist[i]):\n",
        "            out.append(i)\n",
        "    return out\n",
        "\n",
        "def in_range(mymin, mymax):\n",
        "    return lambda x: (x >= mymin) and (x <= mymax)\n",
        "\n",
        "def integrate(func, x_min, x_max, N=1000):\n",
        "    x, y = generate_function(func, x_min, x_max, N)\n",
        "    myfunc = in_range(x_min, x_max)\n",
        "    indices = where(y, myfunc)\n",
        "    integral = len(indices) / N\n",
        "    return integral\n"
      ]
    },
    {
      "cell_type": "code",
      "execution_count": 58,
      "metadata": {
        "colab": {
          "base_uri": "https://localhost:8080/",
          "height": 273
        },
        "id": "564iI_k116sL",
        "outputId": "18cd4f6f-573b-4af4-c85d-a513f8135342"
      },
      "outputs": [
        {
          "output_type": "error",
          "ename": "ValueError",
          "evalue": "too many values to unpack (expected 2)",
          "traceback": [
            "\u001b[0;31m---------------------------------------------------------------------------\u001b[0m",
            "\u001b[0;31mValueError\u001b[0m                                Traceback (most recent call last)",
            "\u001b[0;32m<ipython-input-58-39a1ff241155>\u001b[0m in \u001b[0;36m<cell line: 0>\u001b[0;34m()\u001b[0m\n\u001b[0;32m----> 1\u001b[0;31m \u001b[0mintegrate\u001b[0m\u001b[0;34m(\u001b[0m\u001b[0mg1\u001b[0m\u001b[0;34m,\u001b[0m\u001b[0;36m0\u001b[0m\u001b[0;34m,\u001b[0m\u001b[0;36m10\u001b[0m\u001b[0;34m)\u001b[0m\u001b[0;34m\u001b[0m\u001b[0;34m\u001b[0m\u001b[0m\n\u001b[0m",
            "\u001b[0;32m<ipython-input-57-4185ef759bef>\u001b[0m in \u001b[0;36mintegrate\u001b[0;34m(func, x_min, x_max, N)\u001b[0m\n\u001b[1;32m     19\u001b[0m \u001b[0;34m\u001b[0m\u001b[0m\n\u001b[1;32m     20\u001b[0m \u001b[0;32mdef\u001b[0m \u001b[0mintegrate\u001b[0m\u001b[0;34m(\u001b[0m\u001b[0mfunc\u001b[0m\u001b[0;34m,\u001b[0m \u001b[0mx_min\u001b[0m\u001b[0;34m,\u001b[0m \u001b[0mx_max\u001b[0m\u001b[0;34m,\u001b[0m \u001b[0mN\u001b[0m\u001b[0;34m=\u001b[0m\u001b[0;36m1000\u001b[0m\u001b[0;34m)\u001b[0m\u001b[0;34m:\u001b[0m\u001b[0;34m\u001b[0m\u001b[0;34m\u001b[0m\u001b[0m\n\u001b[0;32m---> 21\u001b[0;31m     \u001b[0mx\u001b[0m\u001b[0;34m,\u001b[0m \u001b[0my\u001b[0m \u001b[0;34m=\u001b[0m \u001b[0mgenerate_function\u001b[0m\u001b[0;34m(\u001b[0m\u001b[0mfunc\u001b[0m\u001b[0;34m,\u001b[0m \u001b[0mx_min\u001b[0m\u001b[0;34m,\u001b[0m \u001b[0mx_max\u001b[0m\u001b[0;34m,\u001b[0m \u001b[0mN\u001b[0m\u001b[0;34m)\u001b[0m\u001b[0;34m\u001b[0m\u001b[0;34m\u001b[0m\u001b[0m\n\u001b[0m\u001b[1;32m     22\u001b[0m     \u001b[0mmyfunc\u001b[0m \u001b[0;34m=\u001b[0m \u001b[0min_range\u001b[0m\u001b[0;34m(\u001b[0m\u001b[0mx_min\u001b[0m\u001b[0;34m,\u001b[0m \u001b[0mx_max\u001b[0m\u001b[0;34m)\u001b[0m\u001b[0;34m\u001b[0m\u001b[0;34m\u001b[0m\u001b[0m\n\u001b[1;32m     23\u001b[0m     \u001b[0mindices\u001b[0m \u001b[0;34m=\u001b[0m \u001b[0mwhere\u001b[0m\u001b[0;34m(\u001b[0m\u001b[0my\u001b[0m\u001b[0;34m,\u001b[0m \u001b[0mmyfunc\u001b[0m\u001b[0;34m)\u001b[0m\u001b[0;34m\u001b[0m\u001b[0;34m\u001b[0m\u001b[0m\n",
            "\u001b[0;31mValueError\u001b[0m: too many values to unpack (expected 2)"
          ]
        }
      ],
      "source": [
        "integrate(g1,0,10)"
      ]
    }
  ],
  "metadata": {
    "kernelspec": {
      "display_name": "Python 3 (ipykernel)",
      "language": "python",
      "name": "python3"
    },
    "language_info": {
      "codemirror_mode": {
        "name": "ipython",
        "version": 3
      },
      "file_extension": ".py",
      "mimetype": "text/x-python",
      "name": "python",
      "nbconvert_exporter": "python",
      "pygments_lexer": "ipython3",
      "version": "3.9.6"
    },
    "colab": {
      "provenance": []
    }
  },
  "nbformat": 4,
  "nbformat_minor": 0
}